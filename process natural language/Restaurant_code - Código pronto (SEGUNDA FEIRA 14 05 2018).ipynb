{
 "cells": [
  {
   "cell_type": "markdown",
   "metadata": {},
   "source": [
    "### BIBLIOTECAS/PACOTES:\n",
    "* São importadas as bibliotecas que serão usadas durante o código (maioria delas);\n"
   ]
  },
  {
   "cell_type": "code",
   "execution_count": 2,
   "metadata": {
    "collapsed": false
   },
   "outputs": [],
   "source": [
    "import pandas as pd\n",
    "import re\n",
    "import nltk\n",
    "import unicodedata\n",
    "import sklearn\n",
    "from sklearn.feature_extraction.text import CountVectorizer\n",
    "from sklearn.feature_extraction.text import TfidfTransformer\n",
    "from sklearn.cross_validation import train_test_split\n",
    "from sklearn.metrics import classification_report\n",
    "from nltk.stem.porter import PorterStemmer\n",
    "from nltk.corpus import stopwords\n",
    "from sklearn.metrics import confusion_matrix\n",
    "from sklearn.metrics import accuracy_score\n",
    "from sklearn.metrics import f1_score\n",
    "import numpy as np\n",
    "import matplotlib.pyplot as plt\n",
    "import itertools\n",
    "\n",
    "%matplotlib inline"
   ]
  },
  {
   "cell_type": "markdown",
   "metadata": {},
   "source": [
    "### PRE-PROCESSAMENTO:\n",
    "* Strip_accents() - retira acentuação das palavras;\n",
    "* Text_process() - etapa de pre-processamento dos textos;\n",
    "* plot_confusion_matrix() - plot da matriz de confusão (etapa de classificação);\n",
    "* process_predict() - etapa de pre-processamento para somente um texto (para predição)."
   ]
  },
  {
   "cell_type": "code",
   "execution_count": 3,
   "metadata": {
    "collapsed": true
   },
   "outputs": [],
   "source": [
    "def strip_accents(s):\n",
    "   return ''.join(c for c in unicodedata.normalize('NFKD', s)\n",
    "                  if unicodedata.category(c) != 'Mn')\n",
    "\n",
    "def text_process(data):\n",
    "    corpus=[]\n",
    "    for text in data:\n",
    "        text=re.sub(\"[^a-zA-Z]\",\" \", text)   \n",
    "        text=text.lower()\n",
    "        text=strip_accents(text)\n",
    "        ps = PorterStemmer()\n",
    "        word=[str(ps.stem(word)) for word in text.split() if word not in set(stopwords.words('english'))]\n",
    "        word = ' '.join(word)\n",
    "        corpus.append(word)\n",
    "    \n",
    "    return corpus\n",
    "\n",
    "#http://scikit-learn.org/stable/auto_examples/model_selection/plot_confusion_matrix.html\n",
    "def plot_confusion_matrix(cm, classes,\n",
    "                          normalize=False,\n",
    "                          title='Confusion matrix',\n",
    "                          cmap=plt.cm.Blues):\n",
    "\n",
    "    plt.imshow(cm, interpolation='nearest', cmap=cmap)\n",
    "    plt.title(title,fontsize=15)\n",
    "    plt.colorbar()\n",
    "    tick_marks = np.arange(len(classes))\n",
    "    plt.xticks(tick_marks, classes, rotation=45,fontsize=8)\n",
    "    plt.yticks(tick_marks, classes,fontsize=8)\n",
    "    fmt = '.2f' if normalize else 'd'\n",
    "    thresh = cm.max() / 2.\n",
    "    \n",
    "    for i, j in itertools.product(range(cm.shape[0]), range(cm.shape[1])):\n",
    "        plt.text(j, i, format(cm[i, j], fmt),\n",
    "                 horizontalalignment=\"center\",\n",
    "                 color=\"white\" if cm[i, j] > thresh else \"black\")\n",
    "\n",
    "    plt.tight_layout()\n",
    "    plt.ylabel('True label',fontsize=10)\n",
    "    plt.xlabel('Predicted label',fontsize=10)\n",
    "    \n",
    "def process_predict(text):\n",
    "    corpus=[]\n",
    "    text=re.sub(\"[^a-zA-Z]\",\" \", text)   \n",
    "    text=text.lower()\n",
    "    text=strip_accents(text)\n",
    "    ps = PorterStemmer()\n",
    "    word=[str(ps.stem(word)) for word in text.split() if word not in set(stopwords.words('english'))]\n",
    "    word = ' '.join(word)\n",
    "    corpus.append(word)\n",
    "    return corpus"
   ]
  },
  {
   "cell_type": "markdown",
   "metadata": {},
   "source": [
    "### LEITURA DOS DADOS:\n",
    "* Abre o arquivo .tsv (campos são separados por tab (\\t));\n",
    "* Troca os dados da coluna Liked por NEGATIVO (valor 0) e POSITIVO valor(1)."
   ]
  },
  {
   "cell_type": "code",
   "execution_count": 4,
   "metadata": {
    "collapsed": true
   },
   "outputs": [],
   "source": [
    "data = pd.read_csv('Restaurant_Reviews.tsv', delimiter = '\\t', quoting = 3)\n",
    "data['Liked'] = data['Liked'].map({0:'NEGATIVE',1:'POSITIVE'})"
   ]
  },
  {
   "cell_type": "code",
   "execution_count": 5,
   "metadata": {
    "collapsed": false
   },
   "outputs": [
    {
     "data": {
      "text/html": [
       "<div>\n",
       "<table border=\"1\" class=\"dataframe\">\n",
       "  <thead>\n",
       "    <tr style=\"text-align: right;\">\n",
       "      <th></th>\n",
       "      <th>Review</th>\n",
       "      <th>Liked</th>\n",
       "    </tr>\n",
       "  </thead>\n",
       "  <tbody>\n",
       "    <tr>\n",
       "      <th>0</th>\n",
       "      <td>Wow... Loved this place.</td>\n",
       "      <td>POSITIVE</td>\n",
       "    </tr>\n",
       "    <tr>\n",
       "      <th>1</th>\n",
       "      <td>Crust is not good.</td>\n",
       "      <td>NEGATIVE</td>\n",
       "    </tr>\n",
       "    <tr>\n",
       "      <th>2</th>\n",
       "      <td>Not tasty and the texture was just nasty.</td>\n",
       "      <td>NEGATIVE</td>\n",
       "    </tr>\n",
       "    <tr>\n",
       "      <th>3</th>\n",
       "      <td>Stopped by during the late May bank holiday of...</td>\n",
       "      <td>POSITIVE</td>\n",
       "    </tr>\n",
       "    <tr>\n",
       "      <th>4</th>\n",
       "      <td>The selection on the menu was great and so wer...</td>\n",
       "      <td>POSITIVE</td>\n",
       "    </tr>\n",
       "    <tr>\n",
       "      <th>5</th>\n",
       "      <td>Now I am getting angry and I want my damn pho.</td>\n",
       "      <td>NEGATIVE</td>\n",
       "    </tr>\n",
       "    <tr>\n",
       "      <th>6</th>\n",
       "      <td>Honeslty it didn't taste THAT fresh.)</td>\n",
       "      <td>NEGATIVE</td>\n",
       "    </tr>\n",
       "    <tr>\n",
       "      <th>7</th>\n",
       "      <td>The potatoes were like rubber and you could te...</td>\n",
       "      <td>NEGATIVE</td>\n",
       "    </tr>\n",
       "    <tr>\n",
       "      <th>8</th>\n",
       "      <td>The fries were great too.</td>\n",
       "      <td>POSITIVE</td>\n",
       "    </tr>\n",
       "    <tr>\n",
       "      <th>9</th>\n",
       "      <td>A great touch.</td>\n",
       "      <td>POSITIVE</td>\n",
       "    </tr>\n",
       "    <tr>\n",
       "      <th>10</th>\n",
       "      <td>Service was very prompt.</td>\n",
       "      <td>POSITIVE</td>\n",
       "    </tr>\n",
       "    <tr>\n",
       "      <th>11</th>\n",
       "      <td>Would not go back.</td>\n",
       "      <td>NEGATIVE</td>\n",
       "    </tr>\n",
       "    <tr>\n",
       "      <th>12</th>\n",
       "      <td>The cashier had no care what so ever on what I...</td>\n",
       "      <td>NEGATIVE</td>\n",
       "    </tr>\n",
       "    <tr>\n",
       "      <th>13</th>\n",
       "      <td>I tried the Cape Cod ravoli, chicken, with cra...</td>\n",
       "      <td>POSITIVE</td>\n",
       "    </tr>\n",
       "    <tr>\n",
       "      <th>14</th>\n",
       "      <td>I was disgusted because I was pretty sure that...</td>\n",
       "      <td>NEGATIVE</td>\n",
       "    </tr>\n",
       "    <tr>\n",
       "      <th>15</th>\n",
       "      <td>I was shocked because no signs indicate cash o...</td>\n",
       "      <td>NEGATIVE</td>\n",
       "    </tr>\n",
       "    <tr>\n",
       "      <th>16</th>\n",
       "      <td>Highly recommended.</td>\n",
       "      <td>POSITIVE</td>\n",
       "    </tr>\n",
       "    <tr>\n",
       "      <th>17</th>\n",
       "      <td>Waitress was a little slow in service.</td>\n",
       "      <td>NEGATIVE</td>\n",
       "    </tr>\n",
       "    <tr>\n",
       "      <th>18</th>\n",
       "      <td>This place is not worth your time, let alone V...</td>\n",
       "      <td>NEGATIVE</td>\n",
       "    </tr>\n",
       "    <tr>\n",
       "      <th>19</th>\n",
       "      <td>did not like at all.</td>\n",
       "      <td>NEGATIVE</td>\n",
       "    </tr>\n",
       "  </tbody>\n",
       "</table>\n",
       "</div>"
      ],
      "text/plain": [
       "                                               Review     Liked\n",
       "0                            Wow... Loved this place.  POSITIVE\n",
       "1                                  Crust is not good.  NEGATIVE\n",
       "2           Not tasty and the texture was just nasty.  NEGATIVE\n",
       "3   Stopped by during the late May bank holiday of...  POSITIVE\n",
       "4   The selection on the menu was great and so wer...  POSITIVE\n",
       "5      Now I am getting angry and I want my damn pho.  NEGATIVE\n",
       "6               Honeslty it didn't taste THAT fresh.)  NEGATIVE\n",
       "7   The potatoes were like rubber and you could te...  NEGATIVE\n",
       "8                           The fries were great too.  POSITIVE\n",
       "9                                      A great touch.  POSITIVE\n",
       "10                           Service was very prompt.  POSITIVE\n",
       "11                                 Would not go back.  NEGATIVE\n",
       "12  The cashier had no care what so ever on what I...  NEGATIVE\n",
       "13  I tried the Cape Cod ravoli, chicken, with cra...  POSITIVE\n",
       "14  I was disgusted because I was pretty sure that...  NEGATIVE\n",
       "15  I was shocked because no signs indicate cash o...  NEGATIVE\n",
       "16                                Highly recommended.  POSITIVE\n",
       "17             Waitress was a little slow in service.  NEGATIVE\n",
       "18  This place is not worth your time, let alone V...  NEGATIVE\n",
       "19                               did not like at all.  NEGATIVE"
      ]
     },
     "execution_count": 5,
     "metadata": {},
     "output_type": "execute_result"
    }
   ],
   "source": [
    "data.head(20)"
   ]
  },
  {
   "cell_type": "markdown",
   "metadata": {},
   "source": [
    "### GRÁFICOS:\n",
    "* Alguns gráficos que podem ser interessantes para ter maior informação sobre o problema.\n",
    "* Quantidade de reviews POSITIVOS e NEGATIVOS!\n",
    "* Informação sobre o tamanho médio dos reviews!\n",
    "    "
   ]
  },
  {
   "cell_type": "code",
   "execution_count": 6,
   "metadata": {
    "collapsed": false
   },
   "outputs": [
    {
     "data": {
      "image/png": "[encoded data removed]",
      "text/plain": [
       "<matplotlib.figure.Figure at 0x19d39585400>"
      ]
     },
     "metadata": {},
     "output_type": "display_data"
    }
   ],
   "source": [
    "label_distribution=data['Liked'].value_counts()\n",
    "label_distribution.plot(kind='bar')\n",
    "data=data[['Review','Liked']]\n",
    "plt.show()"
   ]
  },
  {
   "cell_type": "code",
   "execution_count": 7,
   "metadata": {
    "collapsed": false
   },
   "outputs": [
    {
     "data": {
      "text/html": [
       "<div>\n",
       "<table border=\"1\" class=\"dataframe\">\n",
       "  <thead>\n",
       "    <tr style=\"text-align: right;\">\n",
       "      <th></th>\n",
       "      <th>Review</th>\n",
       "      <th>Liked</th>\n",
       "      <th>Length</th>\n",
       "    </tr>\n",
       "  </thead>\n",
       "  <tbody>\n",
       "    <tr>\n",
       "      <th>0</th>\n",
       "      <td>Wow... Loved this place.</td>\n",
       "      <td>POSITIVE</td>\n",
       "      <td>24</td>\n",
       "    </tr>\n",
       "    <tr>\n",
       "      <th>1</th>\n",
       "      <td>Crust is not good.</td>\n",
       "      <td>NEGATIVE</td>\n",
       "      <td>18</td>\n",
       "    </tr>\n",
       "    <tr>\n",
       "      <th>2</th>\n",
       "      <td>Not tasty and the texture was just nasty.</td>\n",
       "      <td>NEGATIVE</td>\n",
       "      <td>41</td>\n",
       "    </tr>\n",
       "    <tr>\n",
       "      <th>3</th>\n",
       "      <td>Stopped by during the late May bank holiday of...</td>\n",
       "      <td>POSITIVE</td>\n",
       "      <td>87</td>\n",
       "    </tr>\n",
       "    <tr>\n",
       "      <th>4</th>\n",
       "      <td>The selection on the menu was great and so wer...</td>\n",
       "      <td>POSITIVE</td>\n",
       "      <td>59</td>\n",
       "    </tr>\n",
       "    <tr>\n",
       "      <th>5</th>\n",
       "      <td>Now I am getting angry and I want my damn pho.</td>\n",
       "      <td>NEGATIVE</td>\n",
       "      <td>46</td>\n",
       "    </tr>\n",
       "    <tr>\n",
       "      <th>6</th>\n",
       "      <td>Honeslty it didn't taste THAT fresh.)</td>\n",
       "      <td>NEGATIVE</td>\n",
       "      <td>37</td>\n",
       "    </tr>\n",
       "    <tr>\n",
       "      <th>7</th>\n",
       "      <td>The potatoes were like rubber and you could te...</td>\n",
       "      <td>NEGATIVE</td>\n",
       "      <td>111</td>\n",
       "    </tr>\n",
       "    <tr>\n",
       "      <th>8</th>\n",
       "      <td>The fries were great too.</td>\n",
       "      <td>POSITIVE</td>\n",
       "      <td>25</td>\n",
       "    </tr>\n",
       "    <tr>\n",
       "      <th>9</th>\n",
       "      <td>A great touch.</td>\n",
       "      <td>POSITIVE</td>\n",
       "      <td>14</td>\n",
       "    </tr>\n",
       "    <tr>\n",
       "      <th>10</th>\n",
       "      <td>Service was very prompt.</td>\n",
       "      <td>POSITIVE</td>\n",
       "      <td>24</td>\n",
       "    </tr>\n",
       "    <tr>\n",
       "      <th>11</th>\n",
       "      <td>Would not go back.</td>\n",
       "      <td>NEGATIVE</td>\n",
       "      <td>18</td>\n",
       "    </tr>\n",
       "    <tr>\n",
       "      <th>12</th>\n",
       "      <td>The cashier had no care what so ever on what I...</td>\n",
       "      <td>NEGATIVE</td>\n",
       "      <td>99</td>\n",
       "    </tr>\n",
       "    <tr>\n",
       "      <th>13</th>\n",
       "      <td>I tried the Cape Cod ravoli, chicken, with cra...</td>\n",
       "      <td>POSITIVE</td>\n",
       "      <td>60</td>\n",
       "    </tr>\n",
       "    <tr>\n",
       "      <th>14</th>\n",
       "      <td>I was disgusted because I was pretty sure that...</td>\n",
       "      <td>NEGATIVE</td>\n",
       "      <td>62</td>\n",
       "    </tr>\n",
       "    <tr>\n",
       "      <th>15</th>\n",
       "      <td>I was shocked because no signs indicate cash o...</td>\n",
       "      <td>NEGATIVE</td>\n",
       "      <td>50</td>\n",
       "    </tr>\n",
       "    <tr>\n",
       "      <th>16</th>\n",
       "      <td>Highly recommended.</td>\n",
       "      <td>POSITIVE</td>\n",
       "      <td>19</td>\n",
       "    </tr>\n",
       "    <tr>\n",
       "      <th>17</th>\n",
       "      <td>Waitress was a little slow in service.</td>\n",
       "      <td>NEGATIVE</td>\n",
       "      <td>38</td>\n",
       "    </tr>\n",
       "    <tr>\n",
       "      <th>18</th>\n",
       "      <td>This place is not worth your time, let alone V...</td>\n",
       "      <td>NEGATIVE</td>\n",
       "      <td>51</td>\n",
       "    </tr>\n",
       "    <tr>\n",
       "      <th>19</th>\n",
       "      <td>did not like at all.</td>\n",
       "      <td>NEGATIVE</td>\n",
       "      <td>20</td>\n",
       "    </tr>\n",
       "  </tbody>\n",
       "</table>\n",
       "</div>"
      ],
      "text/plain": [
       "                                               Review     Liked  Length\n",
       "0                            Wow... Loved this place.  POSITIVE      24\n",
       "1                                  Crust is not good.  NEGATIVE      18\n",
       "2           Not tasty and the texture was just nasty.  NEGATIVE      41\n",
       "3   Stopped by during the late May bank holiday of...  POSITIVE      87\n",
       "4   The selection on the menu was great and so wer...  POSITIVE      59\n",
       "5      Now I am getting angry and I want my damn pho.  NEGATIVE      46\n",
       "6               Honeslty it didn't taste THAT fresh.)  NEGATIVE      37\n",
       "7   The potatoes were like rubber and you could te...  NEGATIVE     111\n",
       "8                           The fries were great too.  POSITIVE      25\n",
       "9                                      A great touch.  POSITIVE      14\n",
       "10                           Service was very prompt.  POSITIVE      24\n",
       "11                                 Would not go back.  NEGATIVE      18\n",
       "12  The cashier had no care what so ever on what I...  NEGATIVE      99\n",
       "13  I tried the Cape Cod ravoli, chicken, with cra...  POSITIVE      60\n",
       "14  I was disgusted because I was pretty sure that...  NEGATIVE      62\n",
       "15  I was shocked because no signs indicate cash o...  NEGATIVE      50\n",
       "16                                Highly recommended.  POSITIVE      19\n",
       "17             Waitress was a little slow in service.  NEGATIVE      38\n",
       "18  This place is not worth your time, let alone V...  NEGATIVE      51\n",
       "19                               did not like at all.  NEGATIVE      20"
      ]
     },
     "execution_count": 7,
     "metadata": {},
     "output_type": "execute_result"
    }
   ],
   "source": [
    "data['Length'] = data['Review'].apply(len)\n",
    "data.head(20)"
   ]
  },
  {
   "cell_type": "code",
   "execution_count": 8,
   "metadata": {
    "collapsed": false
   },
   "outputs": [
    {
     "data": {
      "text/plain": [
       "<matplotlib.axes._subplots.AxesSubplot at 0x19d399023c8>"
      ]
     },
     "execution_count": 8,
     "metadata": {},
     "output_type": "execute_result"
    },
    {
     "data": {
      "image/png": "[encoded data removed]",
      "text/plain": [
       "<matplotlib.figure.Figure at 0x19d39676208>"
      ]
     },
     "metadata": {},
     "output_type": "display_data"
    }
   ],
   "source": [
    "data['Length'].plot(bins=50, kind='hist')"
   ]
  },
  {
   "cell_type": "markdown",
   "metadata": {},
   "source": [
    "### PERGUNTA:\n",
    "* Será que existe alguma relação entre o tamanho do review e o fato de ser POSITIVO ou NEGATIVO?\n",
    "\n",
    "#### PASSOS:\n",
    "* Verificar os dados estatísticos sobre o tamanho: máximo (max), mínimo (min), desvio(std), média (mean);\n",
    "* Agrupar os dados conforme a coluna de classificação do Review (Liked)."
   ]
  },
  {
   "cell_type": "code",
   "execution_count": 9,
   "metadata": {
    "collapsed": false
   },
   "outputs": [
    {
     "data": {
      "text/plain": [
       "count    1000.000000\n",
       "mean       58.315000\n",
       "std        32.360052\n",
       "min        11.000000\n",
       "25%        33.000000\n",
       "50%        51.000000\n",
       "75%        80.000000\n",
       "max       149.000000\n",
       "Name: Length, dtype: float64"
      ]
     },
     "execution_count": 9,
     "metadata": {},
     "output_type": "execute_result"
    }
   ],
   "source": [
    "data.Length.describe()"
   ]
  },
  {
   "cell_type": "code",
   "execution_count": 10,
   "metadata": {
    "collapsed": false
   },
   "outputs": [
    {
     "data": {
      "text/plain": [
       "array([<matplotlib.axes._subplots.AxesSubplot object at 0x0000019D39A86630>,\n",
       "       <matplotlib.axes._subplots.AxesSubplot object at 0x0000019D39660550>], dtype=object)"
      ]
     },
     "execution_count": 10,
     "metadata": {},
     "output_type": "execute_result"
    },
    {
     "data": {
      "image/png": "[encoded data removed]",
      "text/plain": [
       "<matplotlib.figure.Figure at 0x19d39a95f28>"
      ]
     },
     "metadata": {},
     "output_type": "display_data"
    }
   ],
   "source": [
    "data.hist(column='Length', by='Liked', bins=50,figsize=(10,4))"
   ]
  },
  {
   "cell_type": "markdown",
   "metadata": {},
   "source": [
    "### PASSOS PARA DESENVOLVER UM ALGORITMO DE MACHINE LEARNING:\n",
    "* Coletar (Obter) os dados;\n",
    "* Pre-processar os dados para deixar em um formato que o classificador entenda;\n",
    "* Dividir em Conjunto de treinamento e teste;\n",
    "* Avaliar o desempenho do seu algoritmo treinado no conjunto de treinamento para o conjunto de teste;\n",
    "* Tenta melhorar o desempenho mudando hiperparamêtros ou trocando o classificador ou mudando etapas de pre-processamento.\n",
    "\n",
    "![title](machine_learning.png)\n",
    "\n",
    "* LINK:\n",
    "* http://upxacademy.com/introduction-machine-learning/"
   ]
  },
  {
   "cell_type": "markdown",
   "metadata": {},
   "source": [
    "### PRE-PROCESSAMENTO + BAG OF WORDS:\n",
    "* Aplica o método de pre-processamento de texto para todos os textos da coluna Review;\n",
    "* Usa o CountVectorizer() para transformar um conjunto de texto em uma matriz de TOKENS;\n",
    "* X é o bag of words (variável independente);\n",
    "* Y é o classificação do Review (variável dependente).\n"
   ]
  },
  {
   "cell_type": "code",
   "execution_count": 11,
   "metadata": {
    "collapsed": false
   },
   "outputs": [
    {
     "data": {
      "text/html": [
       "<div>\n",
       "<table border=\"1\" class=\"dataframe\">\n",
       "  <thead>\n",
       "    <tr style=\"text-align: right;\">\n",
       "      <th></th>\n",
       "      <th>absolut</th>\n",
       "      <th>absolutley</th>\n",
       "      <th>accid</th>\n",
       "      <th>accommod</th>\n",
       "      <th>accomod</th>\n",
       "      <th>accordingli</th>\n",
       "      <th>account</th>\n",
       "      <th>ach</th>\n",
       "      <th>acknowledg</th>\n",
       "      <th>across</th>\n",
       "      <th>...</th>\n",
       "      <th>year</th>\n",
       "      <th>yellow</th>\n",
       "      <th>yellowtail</th>\n",
       "      <th>yelper</th>\n",
       "      <th>yet</th>\n",
       "      <th>yucki</th>\n",
       "      <th>yukon</th>\n",
       "      <th>yum</th>\n",
       "      <th>yummi</th>\n",
       "      <th>zero</th>\n",
       "    </tr>\n",
       "  </thead>\n",
       "  <tbody>\n",
       "    <tr>\n",
       "      <th>0</th>\n",
       "      <td>0</td>\n",
       "      <td>0</td>\n",
       "      <td>0</td>\n",
       "      <td>0</td>\n",
       "      <td>0</td>\n",
       "      <td>0</td>\n",
       "      <td>0</td>\n",
       "      <td>0</td>\n",
       "      <td>0</td>\n",
       "      <td>0</td>\n",
       "      <td>...</td>\n",
       "      <td>0</td>\n",
       "      <td>0</td>\n",
       "      <td>0</td>\n",
       "      <td>0</td>\n",
       "      <td>0</td>\n",
       "      <td>0</td>\n",
       "      <td>0</td>\n",
       "      <td>0</td>\n",
       "      <td>0</td>\n",
       "      <td>0</td>\n",
       "    </tr>\n",
       "    <tr>\n",
       "      <th>1</th>\n",
       "      <td>0</td>\n",
       "      <td>0</td>\n",
       "      <td>0</td>\n",
       "      <td>0</td>\n",
       "      <td>0</td>\n",
       "      <td>0</td>\n",
       "      <td>0</td>\n",
       "      <td>0</td>\n",
       "      <td>0</td>\n",
       "      <td>0</td>\n",
       "      <td>...</td>\n",
       "      <td>0</td>\n",
       "      <td>0</td>\n",
       "      <td>0</td>\n",
       "      <td>0</td>\n",
       "      <td>0</td>\n",
       "      <td>0</td>\n",
       "      <td>0</td>\n",
       "      <td>0</td>\n",
       "      <td>0</td>\n",
       "      <td>0</td>\n",
       "    </tr>\n",
       "    <tr>\n",
       "      <th>2</th>\n",
       "      <td>0</td>\n",
       "      <td>0</td>\n",
       "      <td>0</td>\n",
       "      <td>0</td>\n",
       "      <td>0</td>\n",
       "      <td>0</td>\n",
       "      <td>0</td>\n",
       "      <td>0</td>\n",
       "      <td>0</td>\n",
       "      <td>0</td>\n",
       "      <td>...</td>\n",
       "      <td>0</td>\n",
       "      <td>0</td>\n",
       "      <td>0</td>\n",
       "      <td>0</td>\n",
       "      <td>0</td>\n",
       "      <td>0</td>\n",
       "      <td>0</td>\n",
       "      <td>0</td>\n",
       "      <td>0</td>\n",
       "      <td>0</td>\n",
       "    </tr>\n",
       "    <tr>\n",
       "      <th>3</th>\n",
       "      <td>0</td>\n",
       "      <td>0</td>\n",
       "      <td>0</td>\n",
       "      <td>0</td>\n",
       "      <td>0</td>\n",
       "      <td>0</td>\n",
       "      <td>0</td>\n",
       "      <td>0</td>\n",
       "      <td>0</td>\n",
       "      <td>0</td>\n",
       "      <td>...</td>\n",
       "      <td>0</td>\n",
       "      <td>0</td>\n",
       "      <td>0</td>\n",
       "      <td>0</td>\n",
       "      <td>0</td>\n",
       "      <td>0</td>\n",
       "      <td>0</td>\n",
       "      <td>0</td>\n",
       "      <td>0</td>\n",
       "      <td>0</td>\n",
       "    </tr>\n",
       "    <tr>\n",
       "      <th>4</th>\n",
       "      <td>0</td>\n",
       "      <td>0</td>\n",
       "      <td>0</td>\n",
       "      <td>0</td>\n",
       "      <td>0</td>\n",
       "      <td>0</td>\n",
       "      <td>0</td>\n",
       "      <td>0</td>\n",
       "      <td>0</td>\n",
       "      <td>0</td>\n",
       "      <td>...</td>\n",
       "      <td>0</td>\n",
       "      <td>0</td>\n",
       "      <td>0</td>\n",
       "      <td>0</td>\n",
       "      <td>0</td>\n",
       "      <td>0</td>\n",
       "      <td>0</td>\n",
       "      <td>0</td>\n",
       "      <td>0</td>\n",
       "      <td>0</td>\n",
       "    </tr>\n",
       "    <tr>\n",
       "      <th>5</th>\n",
       "      <td>0</td>\n",
       "      <td>0</td>\n",
       "      <td>0</td>\n",
       "      <td>0</td>\n",
       "      <td>0</td>\n",
       "      <td>0</td>\n",
       "      <td>0</td>\n",
       "      <td>0</td>\n",
       "      <td>0</td>\n",
       "      <td>0</td>\n",
       "      <td>...</td>\n",
       "      <td>0</td>\n",
       "      <td>0</td>\n",
       "      <td>0</td>\n",
       "      <td>0</td>\n",
       "      <td>0</td>\n",
       "      <td>0</td>\n",
       "      <td>0</td>\n",
       "      <td>0</td>\n",
       "      <td>0</td>\n",
       "      <td>0</td>\n",
       "    </tr>\n",
       "    <tr>\n",
       "      <th>6</th>\n",
       "      <td>0</td>\n",
       "      <td>0</td>\n",
       "      <td>0</td>\n",
       "      <td>0</td>\n",
       "      <td>0</td>\n",
       "      <td>0</td>\n",
       "      <td>0</td>\n",
       "      <td>0</td>\n",
       "      <td>0</td>\n",
       "      <td>0</td>\n",
       "      <td>...</td>\n",
       "      <td>0</td>\n",
       "      <td>0</td>\n",
       "      <td>0</td>\n",
       "      <td>0</td>\n",
       "      <td>0</td>\n",
       "      <td>0</td>\n",
       "      <td>0</td>\n",
       "      <td>0</td>\n",
       "      <td>0</td>\n",
       "      <td>0</td>\n",
       "    </tr>\n",
       "    <tr>\n",
       "      <th>7</th>\n",
       "      <td>0</td>\n",
       "      <td>0</td>\n",
       "      <td>0</td>\n",
       "      <td>0</td>\n",
       "      <td>0</td>\n",
       "      <td>0</td>\n",
       "      <td>0</td>\n",
       "      <td>0</td>\n",
       "      <td>0</td>\n",
       "      <td>0</td>\n",
       "      <td>...</td>\n",
       "      <td>0</td>\n",
       "      <td>0</td>\n",
       "      <td>0</td>\n",
       "      <td>0</td>\n",
       "      <td>0</td>\n",
       "      <td>0</td>\n",
       "      <td>0</td>\n",
       "      <td>0</td>\n",
       "      <td>0</td>\n",
       "      <td>0</td>\n",
       "    </tr>\n",
       "    <tr>\n",
       "      <th>8</th>\n",
       "      <td>0</td>\n",
       "      <td>0</td>\n",
       "      <td>0</td>\n",
       "      <td>0</td>\n",
       "      <td>0</td>\n",
       "      <td>0</td>\n",
       "      <td>0</td>\n",
       "      <td>0</td>\n",
       "      <td>0</td>\n",
       "      <td>0</td>\n",
       "      <td>...</td>\n",
       "      <td>0</td>\n",
       "      <td>0</td>\n",
       "      <td>0</td>\n",
       "      <td>0</td>\n",
       "      <td>0</td>\n",
       "      <td>0</td>\n",
       "      <td>0</td>\n",
       "      <td>0</td>\n",
       "      <td>0</td>\n",
       "      <td>0</td>\n",
       "    </tr>\n",
       "    <tr>\n",
       "      <th>9</th>\n",
       "      <td>0</td>\n",
       "      <td>0</td>\n",
       "      <td>0</td>\n",
       "      <td>0</td>\n",
       "      <td>0</td>\n",
       "      <td>0</td>\n",
       "      <td>0</td>\n",
       "      <td>0</td>\n",
       "      <td>0</td>\n",
       "      <td>0</td>\n",
       "      <td>...</td>\n",
       "      <td>0</td>\n",
       "      <td>0</td>\n",
       "      <td>0</td>\n",
       "      <td>0</td>\n",
       "      <td>0</td>\n",
       "      <td>0</td>\n",
       "      <td>0</td>\n",
       "      <td>0</td>\n",
       "      <td>0</td>\n",
       "      <td>0</td>\n",
       "    </tr>\n",
       "    <tr>\n",
       "      <th>10</th>\n",
       "      <td>0</td>\n",
       "      <td>0</td>\n",
       "      <td>0</td>\n",
       "      <td>0</td>\n",
       "      <td>0</td>\n",
       "      <td>0</td>\n",
       "      <td>0</td>\n",
       "      <td>0</td>\n",
       "      <td>0</td>\n",
       "      <td>0</td>\n",
       "      <td>...</td>\n",
       "      <td>0</td>\n",
       "      <td>0</td>\n",
       "      <td>0</td>\n",
       "      <td>0</td>\n",
       "      <td>0</td>\n",
       "      <td>0</td>\n",
       "      <td>0</td>\n",
       "      <td>0</td>\n",
       "      <td>0</td>\n",
       "      <td>0</td>\n",
       "    </tr>\n",
       "    <tr>\n",
       "      <th>11</th>\n",
       "      <td>0</td>\n",
       "      <td>0</td>\n",
       "      <td>0</td>\n",
       "      <td>0</td>\n",
       "      <td>0</td>\n",
       "      <td>0</td>\n",
       "      <td>0</td>\n",
       "      <td>0</td>\n",
       "      <td>0</td>\n",
       "      <td>0</td>\n",
       "      <td>...</td>\n",
       "      <td>0</td>\n",
       "      <td>0</td>\n",
       "      <td>0</td>\n",
       "      <td>0</td>\n",
       "      <td>0</td>\n",
       "      <td>0</td>\n",
       "      <td>0</td>\n",
       "      <td>0</td>\n",
       "      <td>0</td>\n",
       "      <td>0</td>\n",
       "    </tr>\n",
       "    <tr>\n",
       "      <th>12</th>\n",
       "      <td>0</td>\n",
       "      <td>0</td>\n",
       "      <td>0</td>\n",
       "      <td>0</td>\n",
       "      <td>0</td>\n",
       "      <td>0</td>\n",
       "      <td>0</td>\n",
       "      <td>0</td>\n",
       "      <td>0</td>\n",
       "      <td>0</td>\n",
       "      <td>...</td>\n",
       "      <td>0</td>\n",
       "      <td>0</td>\n",
       "      <td>0</td>\n",
       "      <td>0</td>\n",
       "      <td>0</td>\n",
       "      <td>0</td>\n",
       "      <td>0</td>\n",
       "      <td>0</td>\n",
       "      <td>0</td>\n",
       "      <td>0</td>\n",
       "    </tr>\n",
       "    <tr>\n",
       "      <th>13</th>\n",
       "      <td>0</td>\n",
       "      <td>0</td>\n",
       "      <td>0</td>\n",
       "      <td>0</td>\n",
       "      <td>0</td>\n",
       "      <td>0</td>\n",
       "      <td>0</td>\n",
       "      <td>0</td>\n",
       "      <td>0</td>\n",
       "      <td>0</td>\n",
       "      <td>...</td>\n",
       "      <td>0</td>\n",
       "      <td>0</td>\n",
       "      <td>0</td>\n",
       "      <td>0</td>\n",
       "      <td>0</td>\n",
       "      <td>0</td>\n",
       "      <td>0</td>\n",
       "      <td>0</td>\n",
       "      <td>0</td>\n",
       "      <td>0</td>\n",
       "    </tr>\n",
       "    <tr>\n",
       "      <th>14</th>\n",
       "      <td>0</td>\n",
       "      <td>0</td>\n",
       "      <td>0</td>\n",
       "      <td>0</td>\n",
       "      <td>0</td>\n",
       "      <td>0</td>\n",
       "      <td>0</td>\n",
       "      <td>0</td>\n",
       "      <td>0</td>\n",
       "      <td>0</td>\n",
       "      <td>...</td>\n",
       "      <td>0</td>\n",
       "      <td>0</td>\n",
       "      <td>0</td>\n",
       "      <td>0</td>\n",
       "      <td>0</td>\n",
       "      <td>0</td>\n",
       "      <td>0</td>\n",
       "      <td>0</td>\n",
       "      <td>0</td>\n",
       "      <td>0</td>\n",
       "    </tr>\n",
       "    <tr>\n",
       "      <th>15</th>\n",
       "      <td>0</td>\n",
       "      <td>0</td>\n",
       "      <td>0</td>\n",
       "      <td>0</td>\n",
       "      <td>0</td>\n",
       "      <td>0</td>\n",
       "      <td>0</td>\n",
       "      <td>0</td>\n",
       "      <td>0</td>\n",
       "      <td>0</td>\n",
       "      <td>...</td>\n",
       "      <td>0</td>\n",
       "      <td>0</td>\n",
       "      <td>0</td>\n",
       "      <td>0</td>\n",
       "      <td>0</td>\n",
       "      <td>0</td>\n",
       "      <td>0</td>\n",
       "      <td>0</td>\n",
       "      <td>0</td>\n",
       "      <td>0</td>\n",
       "    </tr>\n",
       "    <tr>\n",
       "      <th>16</th>\n",
       "      <td>0</td>\n",
       "      <td>0</td>\n",
       "      <td>0</td>\n",
       "      <td>0</td>\n",
       "      <td>0</td>\n",
       "      <td>0</td>\n",
       "      <td>0</td>\n",
       "      <td>0</td>\n",
       "      <td>0</td>\n",
       "      <td>0</td>\n",
       "      <td>...</td>\n",
       "      <td>0</td>\n",
       "      <td>0</td>\n",
       "      <td>0</td>\n",
       "      <td>0</td>\n",
       "      <td>0</td>\n",
       "      <td>0</td>\n",
       "      <td>0</td>\n",
       "      <td>0</td>\n",
       "      <td>0</td>\n",
       "      <td>0</td>\n",
       "    </tr>\n",
       "    <tr>\n",
       "      <th>17</th>\n",
       "      <td>0</td>\n",
       "      <td>0</td>\n",
       "      <td>0</td>\n",
       "      <td>0</td>\n",
       "      <td>0</td>\n",
       "      <td>0</td>\n",
       "      <td>0</td>\n",
       "      <td>0</td>\n",
       "      <td>0</td>\n",
       "      <td>0</td>\n",
       "      <td>...</td>\n",
       "      <td>0</td>\n",
       "      <td>0</td>\n",
       "      <td>0</td>\n",
       "      <td>0</td>\n",
       "      <td>0</td>\n",
       "      <td>0</td>\n",
       "      <td>0</td>\n",
       "      <td>0</td>\n",
       "      <td>0</td>\n",
       "      <td>0</td>\n",
       "    </tr>\n",
       "    <tr>\n",
       "      <th>18</th>\n",
       "      <td>0</td>\n",
       "      <td>0</td>\n",
       "      <td>0</td>\n",
       "      <td>0</td>\n",
       "      <td>0</td>\n",
       "      <td>0</td>\n",
       "      <td>0</td>\n",
       "      <td>0</td>\n",
       "      <td>0</td>\n",
       "      <td>0</td>\n",
       "      <td>...</td>\n",
       "      <td>0</td>\n",
       "      <td>0</td>\n",
       "      <td>0</td>\n",
       "      <td>0</td>\n",
       "      <td>0</td>\n",
       "      <td>0</td>\n",
       "      <td>0</td>\n",
       "      <td>0</td>\n",
       "      <td>0</td>\n",
       "      <td>0</td>\n",
       "    </tr>\n",
       "    <tr>\n",
       "      <th>19</th>\n",
       "      <td>0</td>\n",
       "      <td>0</td>\n",
       "      <td>0</td>\n",
       "      <td>0</td>\n",
       "      <td>0</td>\n",
       "      <td>0</td>\n",
       "      <td>0</td>\n",
       "      <td>0</td>\n",
       "      <td>0</td>\n",
       "      <td>0</td>\n",
       "      <td>...</td>\n",
       "      <td>0</td>\n",
       "      <td>0</td>\n",
       "      <td>0</td>\n",
       "      <td>0</td>\n",
       "      <td>0</td>\n",
       "      <td>0</td>\n",
       "      <td>0</td>\n",
       "      <td>0</td>\n",
       "      <td>0</td>\n",
       "      <td>0</td>\n",
       "    </tr>\n",
       "  </tbody>\n",
       "</table>\n",
       "<p>20 rows × 1565 columns</p>\n",
       "</div>"
      ],
      "text/plain": [
       "    absolut  absolutley  accid  accommod  accomod  accordingli  account  ach  \\\n",
       "0         0           0      0         0        0            0        0    0   \n",
       "1         0           0      0         0        0            0        0    0   \n",
       "2         0           0      0         0        0            0        0    0   \n",
       "3         0           0      0         0        0            0        0    0   \n",
       "4         0           0      0         0        0            0        0    0   \n",
       "5         0           0      0         0        0            0        0    0   \n",
       "6         0           0      0         0        0            0        0    0   \n",
       "7         0           0      0         0        0            0        0    0   \n",
       "8         0           0      0         0        0            0        0    0   \n",
       "9         0           0      0         0        0            0        0    0   \n",
       "10        0           0      0         0        0            0        0    0   \n",
       "11        0           0      0         0        0            0        0    0   \n",
       "12        0           0      0         0        0            0        0    0   \n",
       "13        0           0      0         0        0            0        0    0   \n",
       "14        0           0      0         0        0            0        0    0   \n",
       "15        0           0      0         0        0            0        0    0   \n",
       "16        0           0      0         0        0            0        0    0   \n",
       "17        0           0      0         0        0            0        0    0   \n",
       "18        0           0      0         0        0            0        0    0   \n",
       "19        0           0      0         0        0            0        0    0   \n",
       "\n",
       "    acknowledg  across  ...   year  yellow  yellowtail  yelper  yet  yucki  \\\n",
       "0            0       0  ...      0       0           0       0    0      0   \n",
       "1            0       0  ...      0       0           0       0    0      0   \n",
       "2            0       0  ...      0       0           0       0    0      0   \n",
       "3            0       0  ...      0       0           0       0    0      0   \n",
       "4            0       0  ...      0       0           0       0    0      0   \n",
       "5            0       0  ...      0       0           0       0    0      0   \n",
       "6            0       0  ...      0       0           0       0    0      0   \n",
       "7            0       0  ...      0       0           0       0    0      0   \n",
       "8            0       0  ...      0       0           0       0    0      0   \n",
       "9            0       0  ...      0       0           0       0    0      0   \n",
       "10           0       0  ...      0       0           0       0    0      0   \n",
       "11           0       0  ...      0       0           0       0    0      0   \n",
       "12           0       0  ...      0       0           0       0    0      0   \n",
       "13           0       0  ...      0       0           0       0    0      0   \n",
       "14           0       0  ...      0       0           0       0    0      0   \n",
       "15           0       0  ...      0       0           0       0    0      0   \n",
       "16           0       0  ...      0       0           0       0    0      0   \n",
       "17           0       0  ...      0       0           0       0    0      0   \n",
       "18           0       0  ...      0       0           0       0    0      0   \n",
       "19           0       0  ...      0       0           0       0    0      0   \n",
       "\n",
       "    yukon  yum  yummi  zero  \n",
       "0       0    0      0     0  \n",
       "1       0    0      0     0  \n",
       "2       0    0      0     0  \n",
       "3       0    0      0     0  \n",
       "4       0    0      0     0  \n",
       "5       0    0      0     0  \n",
       "6       0    0      0     0  \n",
       "7       0    0      0     0  \n",
       "8       0    0      0     0  \n",
       "9       0    0      0     0  \n",
       "10      0    0      0     0  \n",
       "11      0    0      0     0  \n",
       "12      0    0      0     0  \n",
       "13      0    0      0     0  \n",
       "14      0    0      0     0  \n",
       "15      0    0      0     0  \n",
       "16      0    0      0     0  \n",
       "17      0    0      0     0  \n",
       "18      0    0      0     0  \n",
       "19      0    0      0     0  \n",
       "\n",
       "[20 rows x 1565 columns]"
      ]
     },
     "execution_count": 11,
     "metadata": {},
     "output_type": "execute_result"
    }
   ],
   "source": [
    "texts=text_process(data['Review'])\n",
    "\n",
    "cv = CountVectorizer()\n",
    "X = cv.fit_transform(texts).toarray()\n",
    "y = data.iloc[:, 1].values\n",
    "\n",
    "             \n",
    "vocab = cv.get_feature_names()           \n",
    "bag_of_words=pd.DataFrame(data=X, columns=vocab)\n",
    "\n",
    "bag_of_words.head(20)"
   ]
  },
  {
   "cell_type": "markdown",
   "metadata": {},
   "source": [
    "![title](bag_of_words.png)\n",
    "\n",
    "* LINK:\n",
    "* http://datameetsmedia.com/bag-of-words-tf-idf-explained/"
   ]
  },
  {
   "cell_type": "markdown",
   "metadata": {},
   "source": [
    "### CONJUNTO DE TREINAMENTO E TESTE:\n",
    "* Dividir o X e Y em conjunto de treinamento e teste;\n",
    "* Conjunto de Treinamento: conjunto de instâncias (dados) que você TREINA o seu modelo;\n",
    "* Conjunto de Testes: conjunto de instâncias (dados) que você TESTA seu modelo;\n",
    "* Objetivo: avaliar a capacidade de predição do seu modelo para um conjunto de testes(dados que o classificador não viu antes)."
   ]
  },
  {
   "cell_type": "code",
   "execution_count": 12,
   "metadata": {
    "collapsed": true
   },
   "outputs": [],
   "source": [
    "X_train, X_test, y_train, y_test = train_test_split(X, y, test_size = 0.20, random_state = 0)\n",
    "\n",
    "dict_class={}"
   ]
  },
  {
   "cell_type": "markdown",
   "metadata": {},
   "source": [
    "### MÉTRICAS DE AVALIAÇÃO:\n",
    "\n",
    "![title](confusion_matrix.png)\n",
    "\n",
    "#### ACERTOS:\n",
    "* True Positives (TP) - valores preditos são corretamente classificados como positivos;\n",
    "* True Negative (TN) - valores preditos são corretamente classificados como negativos;\n",
    "\n",
    "#### ERROS:\n",
    "* False Positive (FP) - Valor real é NÃO (falso) e foi predito SIM (verdadeiro);\n",
    "* False Negative (FN) - Valor real é SIM (verdadeiro) e foi predito Não (falso);\n",
    "\n",
    "\n",
    "\n",
    "* LINK:\n",
    "* http://blog.exsilio.com/all/accuracy-precision-recall-f1-score-interpretation-of-performance-measures/\n"
   ]
  },
  {
   "cell_type": "markdown",
   "metadata": {},
   "source": [
    "#### ACCURACY PROBLEM:\n",
    "\n",
    "![title](accuracy_mistakes.png)\n",
    "\n",
    "* 99.9% de acurácia, porém acertou somente 50% quando a label era positiva!\n",
    "* Acurácia é uma boa medida quando se tem datasets simétricos onde os valores dos FP e FN são parecidos (classes não balanceadas).\n",
    "\n",
    "#### ACCURACY:\n",
    "* Percentual de predições corretas em relação ao total de observações;\n",
    "* (TP + TN)/(TP +FP +FN +TN)\n",
    "\n",
    "#### PRECISION:\n",
    "* Proporção de observações corretas positivas em relação ao total de observações positivas preditas;\n",
    "* TP/(TP+ FP);\n",
    "* Quanto das suas previsões são realmente positivas.\n",
    "\n",
    "#### RECALL:\n",
    "* Proporção de observações corretas positivas em relação ao total de observações reais para a classe;\n",
    "* TP/ (TP +FN);\n",
    "* Calcula quanto de valores reais positivos nosso modelo consegue classificar como positivo (TP);\n",
    "* Medida usada para selecionar nosso modelo quando existe um custo alto com FN (exemplo: detecção de fraudes, detecção de pacientes doentes).\n",
    "\n",
    "#### F1 SCORE:\n",
    "* Média (valor médio) entre Precision and Recall;\n",
    "* Leva em conta os FP e FN;\n",
    "* Mais útil que accuracy principalmente com classes não balanceadas;\n",
    "\n",
    "\n",
    "![title](confusion_matrixv2.png)\n",
    "\n",
    "* LINK:\n",
    "* http://blog.exsilio.com/all/accuracy-precision-recall-f1-score-interpretation-of-performance-measures/\n",
    "* https://towardsdatascience.com/accuracy-precision-recall-or-f1-331fb37c5cb9\n",
    "\n"
   ]
  },
  {
   "cell_type": "markdown",
   "metadata": {},
   "source": [
    "### CLASSIFICADORES:\n",
    "* Testar vários classificadores e verificar o desempenho pela acurácia, f1-score e matriz de confusão.\n",
    "* Alguns algoritmos de classificação testados: \n",
    "    - Gaussian Naive Bayes;\n",
    "    - Random Forest;\n",
    "    - Support Vector Machine;\n",
    "    - Multinomial Naive Bayes.\n"
   ]
  },
  {
   "cell_type": "markdown",
   "metadata": {},
   "source": [
    "##### GAUSSIAN NAIVE BAYES:"
   ]
  },
  {
   "cell_type": "code",
   "execution_count": 13,
   "metadata": {
    "collapsed": false
   },
   "outputs": [
    {
     "name": "stdout",
     "output_type": "stream",
     "text": [
      "Predicted  NEGATIVE  POSITIVE\n",
      "Actual                       \n",
      "NEGATIVE         55        42\n",
      "POSITIVE         12        91\n"
     ]
    }
   ],
   "source": [
    "from sklearn.naive_bayes import GaussianNB\n",
    "\n",
    "classifier_gaussian = GaussianNB()\n",
    "classifier_gaussian.fit(X_train, y_train)\n",
    "\n",
    "y_pred = classifier_gaussian.predict(X_test)\n",
    "\n",
    "cm = confusion_matrix(y_test, y_pred)\n",
    "\n",
    "y_actu = pd.Series(y_test, name='Actual')\n",
    "y_pred = pd.Series(y_pred, name='Predicted')\n",
    "df_confusion = pd.crosstab(y_actu, y_pred)\n",
    "print(df_confusion)"
   ]
  },
  {
   "cell_type": "code",
   "execution_count": 14,
   "metadata": {
    "collapsed": false
   },
   "outputs": [
    {
     "data": {
      "image/png": "[encoded data removed]",
      "text/plain": [
       "<matplotlib.figure.Figure at 0x19d39a8ba20>"
      ]
     },
     "metadata": {},
     "output_type": "display_data"
    }
   ],
   "source": [
    "plt.figure()\n",
    "plot_confusion_matrix(cm, classes=['Negative', 'Positive'],\n",
    "                      title='Confusion Matrix Gaussian Naive Bayes')"
   ]
  },
  {
   "cell_type": "code",
   "execution_count": 15,
   "metadata": {
    "collapsed": false
   },
   "outputs": [
    {
     "name": "stdout",
     "output_type": "stream",
     "text": [
      "Classification Report:\n",
      "              precision    recall  f1-score   support\n",
      "\n",
      "   NEGATIVE       0.82      0.57      0.67        97\n",
      "   POSITIVE       0.68      0.88      0.77       103\n",
      "\n",
      "avg / total       0.75      0.73      0.72       200\n",
      "\n",
      "Accuracy: 0.73\n",
      "\n",
      "F1-score: 0.722465894998\n"
     ]
    }
   ],
   "source": [
    "print ('Classification Report:\\n',classification_report(y_test,y_pred))\n",
    "print('Accuracy:',accuracy_score(y_test,y_pred))\n",
    "print('\\nF1-score:', f1_score(y_test, y_pred,  average='weighted'))\n",
    "\n",
    "dict_class['Gaussian NB'] = accuracy_score(y_test,y_pred)\n"
   ]
  },
  {
   "cell_type": "markdown",
   "metadata": {},
   "source": [
    "##### RANDOM FOREST:"
   ]
  },
  {
   "cell_type": "code",
   "execution_count": 16,
   "metadata": {
    "collapsed": false
   },
   "outputs": [
    {
     "name": "stdout",
     "output_type": "stream",
     "text": [
      "Predicted  NEGATIVE  POSITIVE\n",
      "Actual                       \n",
      "NEGATIVE         86        11\n",
      "POSITIVE         45        58\n"
     ]
    }
   ],
   "source": [
    "from sklearn.ensemble import RandomForestClassifier,VotingClassifier\n",
    "\n",
    "forest = RandomForestClassifier(n_estimators=100)\n",
    "forest.fit(X_train, y_train)\n",
    "\n",
    "\n",
    "\n",
    "y_pred = forest.predict(X_test)\n",
    "\n",
    "cm = confusion_matrix(y_test, y_pred)\n",
    "\n",
    "y_actu = pd.Series(y_test, name='Actual')\n",
    "y_pred = pd.Series(y_pred, name='Predicted')\n",
    "df_confusion = pd.crosstab(y_actu, y_pred)\n",
    "print(df_confusion)"
   ]
  },
  {
   "cell_type": "code",
   "execution_count": 17,
   "metadata": {
    "collapsed": false
   },
   "outputs": [
    {
     "data": {
      "image/png": "[encoded data removed]",
      "text/plain": [
       "<matplotlib.figure.Figure at 0x19d3b67d7f0>"
      ]
     },
     "metadata": {},
     "output_type": "display_data"
    }
   ],
   "source": [
    "plt.figure()\n",
    "plot_confusion_matrix(cm, classes=['Negative', 'Positive'],\n",
    "                      title='Confusion Matrix Random Forest')\n"
   ]
  },
  {
   "cell_type": "code",
   "execution_count": 18,
   "metadata": {
    "collapsed": false,
    "scrolled": true
   },
   "outputs": [
    {
     "name": "stdout",
     "output_type": "stream",
     "text": [
      "Classification Report:\n",
      "              precision    recall  f1-score   support\n",
      "\n",
      "   NEGATIVE       0.66      0.89      0.75        97\n",
      "   POSITIVE       0.84      0.56      0.67       103\n",
      "\n",
      "avg / total       0.75      0.72      0.71       200\n",
      "\n",
      "Accuracy: 0.72\n",
      "\n",
      "F1-score: 0.713202774378\n"
     ]
    }
   ],
   "source": [
    "print ('Classification Report:\\n',classification_report(y_test,y_pred))\n",
    "print('Accuracy:',accuracy_score(y_test,y_pred))\n",
    "print('\\nF1-score:', f1_score(y_test, y_pred,  average='weighted'))\n",
    "\n",
    "dict_class['Random Forest'] = accuracy_score(y_test,y_pred)"
   ]
  },
  {
   "cell_type": "markdown",
   "metadata": {},
   "source": [
    "##### MULTINOMIAL NAIVE BAYES:"
   ]
  },
  {
   "cell_type": "code",
   "execution_count": 19,
   "metadata": {
    "collapsed": false
   },
   "outputs": [
    {
     "name": "stdout",
     "output_type": "stream",
     "text": [
      "Predicted  NEGATIVE  POSITIVE\n",
      "Actual                       \n",
      "NEGATIVE         72        25\n",
      "POSITIVE         22        81\n"
     ]
    }
   ],
   "source": [
    "from sklearn.naive_bayes import MultinomialNB\n",
    "\n",
    "\n",
    "\n",
    "classifier_bayes = MultinomialNB()\n",
    "classifier_bayes.fit(X_train, y_train)\n",
    "\n",
    "y_pred = classifier_bayes.predict(X_test)\n",
    "cm = confusion_matrix(y_test, y_pred)\n",
    "\n",
    "y_actu = pd.Series(y_test, name='Actual')\n",
    "y_pred = pd.Series(y_pred, name='Predicted')\n",
    "df_confusion = pd.crosstab(y_actu, y_pred)\n",
    "print(df_confusion)\n",
    "\n",
    "\n",
    "\n"
   ]
  },
  {
   "cell_type": "code",
   "execution_count": 20,
   "metadata": {
    "collapsed": false
   },
   "outputs": [
    {
     "data": {
      "image/png": "[encoded data removed]",
      "text/plain": [
       "<matplotlib.figure.Figure at 0x19d3b839a90>"
      ]
     },
     "metadata": {},
     "output_type": "display_data"
    }
   ],
   "source": [
    "plt.figure()\n",
    "plot_confusion_matrix(cm, classes=['Negative', 'Positive'],\n",
    "                      title='Confusion Matrix Multinominal Naive Bayes')"
   ]
  },
  {
   "cell_type": "code",
   "execution_count": 21,
   "metadata": {
    "collapsed": false
   },
   "outputs": [
    {
     "name": "stdout",
     "output_type": "stream",
     "text": [
      "Classification Report:\n",
      "              precision    recall  f1-score   support\n",
      "\n",
      "   NEGATIVE       0.77      0.74      0.75        97\n",
      "   POSITIVE       0.76      0.79      0.78       103\n",
      "\n",
      "avg / total       0.77      0.77      0.76       200\n",
      "\n",
      "Accuracy: 0.765\n",
      "\n",
      "F1-score: 0.764841053133\n"
     ]
    }
   ],
   "source": [
    "print ('Classification Report:\\n',classification_report(y_test,y_pred))\n",
    "print('Accuracy:',accuracy_score(y_test,y_pred))\n",
    "print('\\nF1-score:', f1_score(y_test, y_pred,  average='weighted'))\n",
    "\n",
    "dict_class['Multinominal NB'] = accuracy_score(y_test,y_pred)"
   ]
  },
  {
   "cell_type": "markdown",
   "metadata": {},
   "source": [
    "##### SUPPORT VECTOR MACHINE:"
   ]
  },
  {
   "cell_type": "code",
   "execution_count": 22,
   "metadata": {
    "collapsed": false
   },
   "outputs": [
    {
     "name": "stdout",
     "output_type": "stream",
     "text": [
      "Predicted  NEGATIVE  POSITIVE\n",
      "Actual                       \n",
      "NEGATIVE         74        23\n",
      "POSITIVE         33        70\n"
     ]
    }
   ],
   "source": [
    "from sklearn.svm import SVC\n",
    "\n",
    "\n",
    "classifier_svm = SVC(kernel='linear',C=1)\n",
    "classifier_svm.fit(X_train, y_train)\n",
    "\n",
    "y_pred = classifier_svm.predict(X_test)\n",
    "\n",
    "cm = confusion_matrix(y_test, y_pred)\n",
    "\n",
    "y_actu = pd.Series(y_test, name='Actual')\n",
    "y_pred = pd.Series(y_pred, name='Predicted')\n",
    "df_confusion = pd.crosstab(y_actu, y_pred)\n",
    "print(df_confusion)\n"
   ]
  },
  {
   "cell_type": "code",
   "execution_count": 23,
   "metadata": {
    "collapsed": false
   },
   "outputs": [
    {
     "data": {
      "image/png": "[encoded data removed]",
      "text/plain": [
       "<matplotlib.figure.Figure at 0x19d3b6b4dd8>"
      ]
     },
     "metadata": {},
     "output_type": "display_data"
    }
   ],
   "source": [
    "plt.figure()\n",
    "plot_confusion_matrix(cm, classes=['Negative', 'Positive'],\n",
    "                      title='Confusion Matrix Linear SVM')"
   ]
  },
  {
   "cell_type": "code",
   "execution_count": 24,
   "metadata": {
    "collapsed": false
   },
   "outputs": [
    {
     "name": "stdout",
     "output_type": "stream",
     "text": [
      "Classification Report:\n",
      "              precision    recall  f1-score   support\n",
      "\n",
      "   NEGATIVE       0.69      0.76      0.73        97\n",
      "   POSITIVE       0.75      0.68      0.71       103\n",
      "\n",
      "avg / total       0.72      0.72      0.72       200\n",
      "\n",
      "Accuracy: 0.72\n",
      "\n",
      "F1-score: 0.719719887955\n"
     ]
    }
   ],
   "source": [
    "print ('Classification Report:\\n',classification_report(y_test,y_pred))\n",
    "print('Accuracy:',accuracy_score(y_test,y_pred))\n",
    "print('\\nF1-score:', f1_score(y_test, y_pred,  average='weighted'))\n",
    "\n",
    "dict_class['Linear SVM'] = accuracy_score(y_test,y_pred)"
   ]
  },
  {
   "cell_type": "code",
   "execution_count": 25,
   "metadata": {
    "collapsed": false
   },
   "outputs": [
    {
     "data": {
      "image/png": "[encoded data removed]",
      "text/plain": [
       "<matplotlib.figure.Figure at 0x19d3b8f7f28>"
      ]
     },
     "metadata": {},
     "output_type": "display_data"
    }
   ],
   "source": [
    "classifiers = list(dict_class.keys())\n",
    "accuracy = list(dict_class.values())\n",
    "\n",
    "plt.bar(left=range(len(dict_class)),height=accuracy,tick_label=classifiers)\n",
    "plt.show()"
   ]
  },
  {
   "cell_type": "markdown",
   "metadata": {},
   "source": [
    "### TESTES PARA O MODELO:\n",
    "* Inserindo 2 frases (1 NEGATIVA e 1 POSITIVA) qual será o resultado da predição para Multinominal Naive Bayes (nosso melhor modelo até agora)?"
   ]
  },
  {
   "cell_type": "code",
   "execution_count": 26,
   "metadata": {
    "collapsed": false
   },
   "outputs": [
    {
     "name": "stdout",
     "output_type": "stream",
     "text": [
      "POSITIVE TEXT:  Really loved my trip\n",
      "PREDICTION:  POSITIVE\n"
     ]
    }
   ],
   "source": [
    "text_spam='Really loved my trip'\n",
    "print('POSITIVE TEXT: ',text_spam)\n",
    "processed_spam = process_predict(text_spam)\n",
    "X_spam = cv.transform(processed_spam).toarray()\n",
    "pred_spam = classifier_bayes.predict(X_spam)\n",
    "print('PREDICTION: ',pred_spam[0])"
   ]
  },
  {
   "cell_type": "code",
   "execution_count": 28,
   "metadata": {
    "collapsed": false
   },
   "outputs": [
    {
     "name": "stdout",
     "output_type": "stream",
     "text": [
      "TEXT NEG:  Waste of money and time\n",
      "PREDICTION:  NEGATIVE\n"
     ]
    }
   ],
   "source": [
    "text_ham = 'Waste of money and time'\n",
    "print('TEXT NEG: ',text_ham)\n",
    "processed_ham=process_predict(text_ham)\n",
    "X_ham = cv.transform(processed_ham).toarray()\n",
    "pred_ham = classifier_bayes.predict(X_ham)\n",
    "print('PREDICTION: ',pred_ham[0])"
   ]
  },
  {
   "cell_type": "markdown",
   "metadata": {},
   "source": [
    "### SELEÇÃO DOS MELHORES HIPER PARÂMETROS PARA O ALGORITMO:\n",
    "* Todos os exemplos foram rodados com parâmetros Default (padrão);\n",
    "* Sempre é interessante rodar o algoritmo com os melhores hiperparâmetros.\n",
    "\n",
    "* Como é possível selecionar os melhores parâmetros de um algoritmo?"
   ]
  },
  {
   "cell_type": "markdown",
   "metadata": {},
   "source": [
    "#####  SVM KERNELS:\n",
    "* Pela ordem na figura : SVM LINEAR, SVM POLY, SVM RBF\n",
    "\n",
    "![title](svm_kernels.png)\n",
    "\n",
    "* LINK:\n",
    "* http://python.astrotech.io/machine-learning/support-vector-machines.html"
   ]
  },
  {
   "cell_type": "code",
   "execution_count": 30,
   "metadata": {
    "collapsed": false
   },
   "outputs": [
    {
     "name": "stdout",
     "output_type": "stream",
     "text": [
      "Grid Scores:\n",
      " [mean: 0.77700, std: 0.04026, params: {'C': 1, 'kernel': 'linear'}, mean: 0.76300, std: 0.02968, params: {'C': 10, 'kernel': 'linear'}, mean: 0.74800, std: 0.03156, params: {'C': 100, 'kernel': 'linear'}, mean: 0.71900, std: 0.02982, params: {'C': 1000, 'kernel': 'linear'}, mean: 0.57700, std: 0.04859, params: {'C': 1, 'gamma': 0.001, 'kernel': 'rbf'}, mean: 0.57700, std: 0.04859, params: {'C': 1, 'gamma': 0.0001, 'kernel': 'rbf'}, mean: 0.69100, std: 0.03562, params: {'C': 10, 'gamma': 0.001, 'kernel': 'rbf'}, mean: 0.57700, std: 0.04859, params: {'C': 10, 'gamma': 0.0001, 'kernel': 'rbf'}, mean: 0.78100, std: 0.04571, params: {'C': 100, 'gamma': 0.001, 'kernel': 'rbf'}, mean: 0.69200, std: 0.03400, params: {'C': 100, 'gamma': 0.0001, 'kernel': 'rbf'}, mean: 0.77100, std: 0.03590, params: {'C': 1000, 'gamma': 0.001, 'kernel': 'rbf'}, mean: 0.78000, std: 0.04754, params: {'C': 1000, 'gamma': 0.0001, 'kernel': 'rbf'}, mean: 0.52600, std: 0.02010, params: {'C': 1, 'degree': 2, 'gamma': 0.001, 'kernel': 'poly'}, mean: 0.52600, std: 0.02010, params: {'C': 1, 'degree': 2, 'gamma': 0.0001, 'kernel': 'poly'}, mean: 0.50000, std: 0.00000, params: {'C': 1, 'degree': 3, 'gamma': 0.001, 'kernel': 'poly'}, mean: 0.50000, std: 0.00000, params: {'C': 1, 'degree': 3, 'gamma': 0.0001, 'kernel': 'poly'}, mean: 0.50000, std: 0.00000, params: {'C': 1, 'degree': 4, 'gamma': 0.001, 'kernel': 'poly'}, mean: 0.50000, std: 0.00000, params: {'C': 1, 'degree': 4, 'gamma': 0.0001, 'kernel': 'poly'}, mean: 0.52600, std: 0.02010, params: {'C': 10, 'degree': 2, 'gamma': 0.001, 'kernel': 'poly'}, mean: 0.52600, std: 0.02010, params: {'C': 10, 'degree': 2, 'gamma': 0.0001, 'kernel': 'poly'}, mean: 0.50000, std: 0.00000, params: {'C': 10, 'degree': 3, 'gamma': 0.001, 'kernel': 'poly'}, mean: 0.50000, std: 0.00000, params: {'C': 10, 'degree': 3, 'gamma': 0.0001, 'kernel': 'poly'}, mean: 0.50000, std: 0.00000, params: {'C': 10, 'degree': 4, 'gamma': 0.001, 'kernel': 'poly'}, mean: 0.50000, std: 0.00000, params: {'C': 10, 'degree': 4, 'gamma': 0.0001, 'kernel': 'poly'}, mean: 0.52600, std: 0.02010, params: {'C': 100, 'degree': 2, 'gamma': 0.001, 'kernel': 'poly'}, mean: 0.52600, std: 0.02010, params: {'C': 100, 'degree': 2, 'gamma': 0.0001, 'kernel': 'poly'}, mean: 0.50000, std: 0.00000, params: {'C': 100, 'degree': 3, 'gamma': 0.001, 'kernel': 'poly'}, mean: 0.50000, std: 0.00000, params: {'C': 100, 'degree': 3, 'gamma': 0.0001, 'kernel': 'poly'}, mean: 0.50000, std: 0.00000, params: {'C': 100, 'degree': 4, 'gamma': 0.001, 'kernel': 'poly'}, mean: 0.50000, std: 0.00000, params: {'C': 100, 'degree': 4, 'gamma': 0.0001, 'kernel': 'poly'}, mean: 0.53100, std: 0.02071, params: {'C': 1000, 'degree': 2, 'gamma': 0.001, 'kernel': 'poly'}, mean: 0.52600, std: 0.02010, params: {'C': 1000, 'degree': 2, 'gamma': 0.0001, 'kernel': 'poly'}, mean: 0.50000, std: 0.00000, params: {'C': 1000, 'degree': 3, 'gamma': 0.001, 'kernel': 'poly'}, mean: 0.50000, std: 0.00000, params: {'C': 1000, 'degree': 3, 'gamma': 0.0001, 'kernel': 'poly'}, mean: 0.50000, std: 0.00000, params: {'C': 1000, 'degree': 4, 'gamma': 0.001, 'kernel': 'poly'}, mean: 0.50000, std: 0.00000, params: {'C': 1000, 'degree': 4, 'gamma': 0.0001, 'kernel': 'poly'}]\n",
      "Best score:\n",
      "  0.781\n",
      "Best params:\n",
      "  {'C': 100, 'gamma': 0.001, 'kernel': 'rbf'}\n",
      "Best estimator:\n",
      "  SVC(C=100, cache_size=200, class_weight=None, coef0=0.0,\n",
      "  decision_function_shape='ovr', degree=3, gamma=0.001, kernel='rbf',\n",
      "  max_iter=-1, probability=False, random_state=None, shrinking=True,\n",
      "  tol=0.001, verbose=False)\n"
     ]
    }
   ],
   "source": [
    "from sklearn.grid_search import GridSearchCV\n",
    "\n",
    "parameter_grid = [\n",
    "  {'C': [1,10,100,1000], 'kernel': ['linear']},\n",
    "  {'C': [1, 10, 100, 1000], 'gamma': [0.001, 0.0001], 'kernel': ['rbf']},\n",
    "  {'C': [1, 10, 100, 1000], 'gamma': [0.001, 0.0001], 'degree':[2,3,4], 'kernel': ['poly']}\n",
    "]\n",
    "\n",
    "clf = GridSearchCV(estimator=SVC(), param_grid=parameter_grid,cv=10, n_jobs=-1)\n",
    "clf.fit(X, y)\n",
    "\n",
    "print('Grid Scores:\\n',clf.grid_scores_)\n",
    "best_score=clf.best_score_\n",
    "best_params=clf.best_params_\n",
    "best_estimator=clf.best_estimator_\n",
    "print('Best score:\\n ', clf.best_score_)\n",
    "print('Best params:\\n ', clf.best_params_)\n",
    "print('Best estimator:\\n ', clf.best_estimator_)"
   ]
  },
  {
   "cell_type": "markdown",
   "metadata": {},
   "source": [
    "### TESTE COM OS MELHORES PARÂMETROS PARA O SVM:\n",
    "* Utilizar os resultados do GridSearch;\n",
    "* Cross-Validation 10-fold;\n",
    "* Medir a acurácia e f1-score.\n",
    "\n",
    "![title](cross_val_score.png)"
   ]
  },
  {
   "cell_type": "markdown",
   "metadata": {},
   "source": [
    "### CROSS-VALIDATION:\n",
    "* Esquemático do que é cross-validation;\n",
    "* Vantagens: medida mais exata do seu modelo;\n",
    "* Desvantagem: leva mais tempo para rodar.\n",
    "\n",
    "![title](cross_val.png)\n",
    "\n",
    "* LINKS:\n",
    "* https://www.kaggle.com/dansbecker/cross-validation\n",
    "* https://towardsdatascience.com/train-test-split-and-cross-validation-in-python-80b61beca4b6\n",
    "* https://www.youtube.com/watch?v=L_dQrZZjGDg\n",
    "\n"
   ]
  },
  {
   "cell_type": "code",
   "execution_count": 31,
   "metadata": {
    "collapsed": false
   },
   "outputs": [
    {
     "name": "stdout",
     "output_type": "stream",
     "text": [
      "Accuracies: [ 0.7   0.77  0.77  0.82  0.72  0.82  0.82  0.79  0.75  0.85]\n",
      "\n",
      "Accuracy for SVM:  0.78 +/- 0.09 \n",
      "\n"
     ]
    }
   ],
   "source": [
    "from sklearn.model_selection import cross_val_predict,cross_val_score\n",
    "\n",
    "classifier_svm_cross = SVC(kernel='rbf',C=100,gamma=0.001)\n",
    "\n",
    "scores_SVM= cross_val_score(clf.best_estimator_,X, y, scoring='accuracy', cv=10)\n",
    "print(\"Accuracies: \" + str(scores_SVM))\n",
    "print(\"\\nAccuracy for SVM:  %0.2f +/- %0.2f \\n\" % (scores_SVM.mean(), scores_SVM.std()*2))\n"
   ]
  },
  {
   "cell_type": "code",
   "execution_count": 32,
   "metadata": {
    "collapsed": false,
    "scrolled": true
   },
   "outputs": [
    {
     "name": "stdout",
     "output_type": "stream",
     "text": [
      "\n",
      "F1-score: 0.780182057436\n"
     ]
    },
    {
     "data": {
      "image/png": "[encoded data removed]",
      "text/plain": [
       "<matplotlib.figure.Figure at 0x19d3b6c1b70>"
      ]
     },
     "metadata": {},
     "output_type": "display_data"
    }
   ],
   "source": [
    "y_pred_SVM_cross = cross_val_predict(clf.best_estimator_, X, y, cv=10) # 10 CV\n",
    "cm = confusion_matrix(y, y_pred_SVM_cross)\n",
    "\n",
    "plt.figure()\n",
    "plot_confusion_matrix(cm, classes=['Negative', 'Positive'],\n",
    "                      title='Confusion Matrix BEST SVM')\n",
    "\n",
    "print('\\nF1-score:', f1_score(y, y_pred_SVM_cross,  average='weighted'))"
   ]
  },
  {
   "cell_type": "markdown",
   "metadata": {},
   "source": [
    "### VERIFICAÇÃO DAS PALAVRAS (TOKENS) QUE MAIS INFLUENCIAM A CLASSIFICAÇÃO:\n",
    "* Utiliza o método show_most_informative_features() do Naive Bayes do NLTK (não tem esse método no scikit-learn);\n",
    "* É possível verificar quais palavras (tokens) mais influenciam (para Naive Bayes) na hora de classificar como POSITIVO ou NEGATIVO.\n"
   ]
  },
  {
   "cell_type": "code",
   "execution_count": 33,
   "metadata": {
    "collapsed": false
   },
   "outputs": [
    {
     "name": "stdout",
     "output_type": "stream",
     "text": [
      "Most Informative Features\n",
      "                      no = True           NEGATI : POSITI =     12.3 : 1.0\n",
      "                    much = True           NEGATI : POSITI =      6.2 : 1.0\n",
      "                    cold = True           NEGATI : POSITI =      5.7 : 1.0\n",
      "                   worst = True           NEGATI : POSITI =      5.7 : 1.0\n",
      "                    nice = True           POSITI : NEGATI =      5.3 : 1.0\n",
      "                      do = True           NEGATI : POSITI =      5.2 : 1.0\n",
      "                       $ = True           NEGATI : POSITI =      5.0 : 1.0\n",
      "                    give = True           NEGATI : POSITI =      5.0 : 1.0\n",
      "                    beer = True           POSITI : NEGATI =      5.0 : 1.0\n",
      "                     bit = True           NEGATI : POSITI =      5.0 : 1.0\n",
      "                     not = True           NEGATI : POSITI =      4.9 : 1.0\n",
      "                   never = True           NEGATI : POSITI =      4.4 : 1.0\n",
      "                       5 = True           POSITI : NEGATI =      4.3 : 1.0\n",
      "                    then = True           NEGATI : POSITI =      4.3 : 1.0\n",
      "                     got = True           NEGATI : POSITI =      4.1 : 1.0\n",
      "                    love = True           POSITI : NEGATI =      4.1 : 1.0\n",
      "                     n't = True           NEGATI : POSITI =      4.0 : 1.0\n",
      "                   think = True           NEGATI : POSITI =      3.9 : 1.0\n",
      "                  flavor = True           NEGATI : POSITI =      3.8 : 1.0\n",
      "                      `` = True           NEGATI : POSITI =      3.8 : 1.0\n"
     ]
    }
   ],
   "source": [
    "train=data.values.tolist()\n",
    "\n",
    "from nltk.tokenize import word_tokenize\n",
    "from nltk.stem.porter import PorterStemmer\n",
    "ps = PorterStemmer() \n",
    "all_words = set(str(ps.stem(word)).lower() for passage in train for word in word_tokenize(passage[0]))\n",
    "t = [({word: (word in word_tokenize(x[0])) for word in all_words}, x[1]) for x in train]\n",
    "\n",
    "\n",
    "classifier = nltk.NaiveBayesClassifier.train(t)\n",
    "classifier.show_most_informative_features(20)"
   ]
  },
  {
   "cell_type": "markdown",
   "metadata": {},
   "source": [
    "### STOPWORDS:\n",
    "* Será que a nossa lista de stopwords é adequada?\n",
    "* As palavras \"No\", \"Not\" são grande indicadores de opinião NEGATIVA porém são retiradas na nossa lista de stopwords.\n"
   ]
  },
  {
   "cell_type": "code",
   "execution_count": 34,
   "metadata": {
    "collapsed": false
   },
   "outputs": [
    {
     "name": "stdout",
     "output_type": "stream",
     "text": [
      "\"No\" in stopwords? True\n",
      "\"Never\" in stopwords? False\n",
      "\"Not\" in stopwords? True\n",
      "\"Nice\" in stopwords? False\n",
      "\"Much\" in stopwords? False\n"
     ]
    }
   ],
   "source": [
    "print('\"No\" in stopwords?', 'no' in stopwords.words('english'))\n",
    "print('\"Never\" in stopwords?', 'never' in stopwords.words('english'))\n",
    "print('\"Not\" in stopwords?', 'not' in stopwords.words('english'))\n",
    "print('\"Nice\" in stopwords?', 'nice' in stopwords.words('english'))\n",
    "print('\"Much\" in stopwords?', 'much' in stopwords.words('english'))"
   ]
  },
  {
   "cell_type": "markdown",
   "metadata": {},
   "source": [
    "### TENTATIVA PARA MELHORAR O MODELO:\n",
    "* Testar sem qualquer lista de stopword;\n",
    "* Outras opções de teste: deixar caracteres especiais, deixar somente ALGUNS caracteres especiais."
   ]
  },
  {
   "cell_type": "code",
   "execution_count": 35,
   "metadata": {
    "collapsed": false
   },
   "outputs": [
    {
     "name": "stdout",
     "output_type": "stream",
     "text": [
      "Accuracies: [ 0.81  0.79  0.81  0.77  0.76  0.89  0.85  0.84  0.79  0.86]\n",
      "\n",
      "Accuracy for SVM without taking off stopwords: 0.82 \n",
      "\n"
     ]
    }
   ],
   "source": [
    "def text_process_stopword(data):\n",
    "    corpus=[]\n",
    "    for text in data:\n",
    "        text=re.sub(\"[^a-zA-Z]\",\" \", text)   \n",
    "        text=text.lower()\n",
    "        text=strip_accents(text)\n",
    "        ps = PorterStemmer()\n",
    "        word=[str(ps.stem(word)) for word in text.split()]\n",
    "        word = ' '.join(word)\n",
    "        corpus.append(word)\n",
    "    \n",
    "    return corpus\n",
    "\n",
    "text_stop=text_process_stopword(data['Review'])\n",
    "\n",
    "cv = CountVectorizer()\n",
    "X_stop = cv.fit_transform(text_stop).toarray()\n",
    "y_stop = data.iloc[:, 1].values\n",
    "\n",
    "\n",
    "classifier_svm_cross_stop = SVC(kernel='rbf',C=100,gamma=0.001)\n",
    "scores_SVM_stopwords= cross_val_score(classifier_svm_cross_stop,X_stop, y_stop, scoring='accuracy', cv=10)\n",
    "print(\"Accuracies: \" + str(scores_SVM_stopwords))\n",
    "print(\"\\nAccuracy for SVM without taking off stopwords: %0.2f \\n\" % (scores_SVM_stopwords.mean()))\n"
   ]
  },
  {
   "cell_type": "code",
   "execution_count": 36,
   "metadata": {
    "collapsed": false
   },
   "outputs": [
    {
     "data": {
      "image/png": "[encoded data removed]",
      "text/plain": [
       "<matplotlib.figure.Figure at 0x19d3b8cdba8>"
      ]
     },
     "metadata": {},
     "output_type": "display_data"
    }
   ],
   "source": [
    "y_pred_SVM_cross_stopwords = cross_val_predict(classifier_svm_cross_stop, X_stop, y_stop, cv=10) # 10 CV\n",
    "cm = confusion_matrix(y_stop, y_pred_SVM_cross_stopwords)\n",
    "\n",
    "plt.figure()\n",
    "plot_confusion_matrix(cm, classes=['Negative', 'Positive'],\n",
    "                      title='Confusion Matrix BEST SVM - without taking off stopwords')"
   ]
  },
  {
   "cell_type": "markdown",
   "metadata": {},
   "source": [
    "### TENTATIVA PARA MELHORAR O MODELO ATRAVÉS DE OUTRA LISTA DE STOPWORDS:\n",
    "* Seleção de outra lista de stopwords;\n",
    "* Neste lista não estão as palavras (tokens) que tem conotação negativa;\n",
    "* Palavras (tokens) negativos serão considerados pelo classificador;\n",
    "* Tentativa de utilizar também um corretor de contrações (por exemplo: \"didn't\" se transforma em \"did not\").\n",
    "\n",
    "\n",
    "* LINKS:\n",
    "* https://www.kdnuggets.com/2018/03/text-data-preprocessing-walkthrough-python.html\n",
    "* https://www.analyticsvidhya.com/blog/2018/02/the-different-methods-deal-text-data-predictive-python/\n",
    "* https://github.com/kootenpv/contractions"
   ]
  },
  {
   "cell_type": "code",
   "execution_count": 37,
   "metadata": {
    "collapsed": false
   },
   "outputs": [
    {
     "name": "stdout",
     "output_type": "stream",
     "text": [
      "Accuracies: [ 0.82  0.83  0.78  0.81  0.8   0.86  0.86  0.83  0.83  0.88]\n",
      "\n",
      "Accuracy for SVM with stopword list 1: 0.83 \n",
      "\n"
     ]
    }
   ],
   "source": [
    "stopword_v1=[]\n",
    "xls = pd.ExcelFile('stopword_v1.xlsx')\n",
    "sheet_stop = xls.parse(0)\n",
    "stopword_v1=sheet_stop['WORDS'].str.lower().tolist()\n",
    "\n",
    "\n",
    "def text_process_stopword(data):\n",
    "    corpus=[]\n",
    "    for text in data:\n",
    "        text=re.sub(\"[^a-zA-Z]\",\" \", text)   \n",
    "        text=text.lower()\n",
    "        text=strip_accents(text)\n",
    "        ps = PorterStemmer() \n",
    "        word=[str(ps.stem(word)) for word in text.split() if word not in set(stopword_v1)]\n",
    "        word = ' '.join(word)\n",
    "        corpus.append(word)\n",
    "    \n",
    "    return corpus\n",
    "\n",
    "\n",
    "text_stop=text_process_stopword(data['Review'])\n",
    "\n",
    "cv = CountVectorizer()\n",
    "X_stop = cv.fit_transform(text_stop).toarray()\n",
    "y_stop = data.iloc[:, 1].values\n",
    "\n",
    "classifier_svm_cross_stop = SVC(kernel='rbf',C=100,gamma=0.001)\n",
    "\n",
    "scores_SVM_stopwords1= cross_val_score(classifier_svm_cross_stop,X_stop, y_stop, scoring='accuracy', cv=10)\n",
    "print(\"Accuracies: \" + str(scores_SVM_stopwords1))\n",
    "print(\"\\nAccuracy for SVM with stopword list 1: %0.2f \\n\" % (scores_SVM_stopwords1.mean()))\n",
    "\n"
   ]
  },
  {
   "cell_type": "code",
   "execution_count": 38,
   "metadata": {
    "collapsed": false
   },
   "outputs": [
    {
     "data": {
      "image/png": "[encoded data removed]",
      "text/plain": [
       "<matplotlib.figure.Figure at 0x19d39cd3f28>"
      ]
     },
     "metadata": {},
     "output_type": "display_data"
    }
   ],
   "source": [
    "y_pred_SVM_cross_stopwords1 = cross_val_predict(classifier_svm_cross_stop, X_stop, y_stop, cv=10) # 10 CV\n",
    "cm = confusion_matrix(y_stop, y_pred_SVM_cross_stopwords1)\n",
    "\n",
    "plt.figure()\n",
    "plot_confusion_matrix(cm, classes=['Negative', 'Positive'],\n",
    "                      title='Confusion Matrix BEST SVM - with stopword list 1')"
   ]
  },
  {
   "cell_type": "markdown",
   "metadata": {},
   "source": [
    "### GRIDSEARCH PARA NOVO PRE-PROCESSAMENTO:\n",
    "* Como as etapas de pre-processamento mudaram pode ser que os melhores hiperparâmetros tenham mudado."
   ]
  },
  {
   "cell_type": "markdown",
   "metadata": {},
   "source": [
    "#### GRIDSEARCH PARA O SVM:"
   ]
  },
  {
   "cell_type": "code",
   "execution_count": 39,
   "metadata": {
    "collapsed": false
   },
   "outputs": [
    {
     "name": "stdout",
     "output_type": "stream",
     "text": [
      "Grid Scores:\n",
      " [mean: 0.82400, std: 0.01960, params: {'C': 1, 'kernel': 'linear'}, mean: 0.79200, std: 0.03709, params: {'C': 10, 'kernel': 'linear'}, mean: 0.79000, std: 0.02408, params: {'C': 100, 'kernel': 'linear'}, mean: 0.78300, std: 0.03195, params: {'C': 1000, 'kernel': 'linear'}, mean: 0.71800, std: 0.03945, params: {'C': 1, 'gamma': 0.001, 'kernel': 'rbf'}, mean: 0.71100, std: 0.04085, params: {'C': 1, 'gamma': 0.0001, 'kernel': 'rbf'}, mean: 0.77800, std: 0.05154, params: {'C': 10, 'gamma': 0.001, 'kernel': 'rbf'}, mean: 0.71100, std: 0.04085, params: {'C': 10, 'gamma': 0.0001, 'kernel': 'rbf'}, mean: 0.83000, std: 0.02864, params: {'C': 100, 'gamma': 0.001, 'kernel': 'rbf'}, mean: 0.77800, std: 0.04833, params: {'C': 100, 'gamma': 0.0001, 'kernel': 'rbf'}, mean: 0.80900, std: 0.01921, params: {'C': 1000, 'gamma': 0.001, 'kernel': 'rbf'}, mean: 0.82800, std: 0.02522, params: {'C': 1000, 'gamma': 0.0001, 'kernel': 'rbf'}, mean: 0.59800, std: 0.04976, params: {'C': 1, 'degree': 2, 'gamma': 0.001, 'kernel': 'poly'}, mean: 0.59800, std: 0.04976, params: {'C': 1, 'degree': 2, 'gamma': 0.0001, 'kernel': 'poly'}, mean: 0.50000, std: 0.00000, params: {'C': 1, 'degree': 3, 'gamma': 0.001, 'kernel': 'poly'}, mean: 0.50000, std: 0.00000, params: {'C': 1, 'degree': 3, 'gamma': 0.0001, 'kernel': 'poly'}, mean: 0.50000, std: 0.00000, params: {'C': 1, 'degree': 4, 'gamma': 0.001, 'kernel': 'poly'}, mean: 0.50000, std: 0.00000, params: {'C': 1, 'degree': 4, 'gamma': 0.0001, 'kernel': 'poly'}, mean: 0.59800, std: 0.04976, params: {'C': 10, 'degree': 2, 'gamma': 0.001, 'kernel': 'poly'}, mean: 0.59800, std: 0.04976, params: {'C': 10, 'degree': 2, 'gamma': 0.0001, 'kernel': 'poly'}, mean: 0.50000, std: 0.00000, params: {'C': 10, 'degree': 3, 'gamma': 0.001, 'kernel': 'poly'}, mean: 0.50000, std: 0.00000, params: {'C': 10, 'degree': 3, 'gamma': 0.0001, 'kernel': 'poly'}, mean: 0.50000, std: 0.00000, params: {'C': 10, 'degree': 4, 'gamma': 0.001, 'kernel': 'poly'}, mean: 0.50000, std: 0.00000, params: {'C': 10, 'degree': 4, 'gamma': 0.0001, 'kernel': 'poly'}, mean: 0.59800, std: 0.04976, params: {'C': 100, 'degree': 2, 'gamma': 0.001, 'kernel': 'poly'}, mean: 0.59800, std: 0.04976, params: {'C': 100, 'degree': 2, 'gamma': 0.0001, 'kernel': 'poly'}, mean: 0.50000, std: 0.00000, params: {'C': 100, 'degree': 3, 'gamma': 0.001, 'kernel': 'poly'}, mean: 0.50000, std: 0.00000, params: {'C': 100, 'degree': 3, 'gamma': 0.0001, 'kernel': 'poly'}, mean: 0.50000, std: 0.00000, params: {'C': 100, 'degree': 4, 'gamma': 0.001, 'kernel': 'poly'}, mean: 0.50000, std: 0.00000, params: {'C': 100, 'degree': 4, 'gamma': 0.0001, 'kernel': 'poly'}, mean: 0.58600, std: 0.05276, params: {'C': 1000, 'degree': 2, 'gamma': 0.001, 'kernel': 'poly'}, mean: 0.59800, std: 0.04976, params: {'C': 1000, 'degree': 2, 'gamma': 0.0001, 'kernel': 'poly'}, mean: 0.50000, std: 0.00000, params: {'C': 1000, 'degree': 3, 'gamma': 0.001, 'kernel': 'poly'}, mean: 0.50000, std: 0.00000, params: {'C': 1000, 'degree': 3, 'gamma': 0.0001, 'kernel': 'poly'}, mean: 0.50000, std: 0.00000, params: {'C': 1000, 'degree': 4, 'gamma': 0.001, 'kernel': 'poly'}, mean: 0.50000, std: 0.00000, params: {'C': 1000, 'degree': 4, 'gamma': 0.0001, 'kernel': 'poly'}]\n",
      "Best score:\n",
      "  0.83\n",
      "Best params:\n",
      "  {'C': 100, 'gamma': 0.001, 'kernel': 'rbf'}\n",
      "Best estimator:\n",
      "  SVC(C=100, cache_size=200, class_weight=None, coef0=0.0,\n",
      "  decision_function_shape='ovr', degree=3, gamma=0.001, kernel='rbf',\n",
      "  max_iter=-1, probability=False, random_state=None, shrinking=True,\n",
      "  tol=0.001, verbose=False)\n"
     ]
    }
   ],
   "source": [
    "from sklearn.grid_search import GridSearchCV\n",
    "\n",
    "parameter_grid = [\n",
    "  {'C': [1,10,100,1000], 'kernel': ['linear']},\n",
    "  {'C': [1, 10, 100, 1000], 'gamma': [0.001, 0.0001], 'kernel': ['rbf']},\n",
    "  {'C': [1, 10, 100, 1000], 'gamma': [0.001, 0.0001], 'degree':[2,3,4], 'kernel': ['poly']}\n",
    "]\n",
    "\n",
    "clf = GridSearchCV(estimator=SVC(), param_grid=parameter_grid,cv=10, n_jobs=-1)\n",
    "clf.fit(X_stop, y_stop)\n",
    "\n",
    "print('Grid Scores:\\n',clf.grid_scores_)\n",
    "best_score=clf.best_score_\n",
    "best_params=clf.best_params_\n",
    "best_estimator=clf.best_estimator_\n",
    "print('Best score:\\n ', clf.best_score_)\n",
    "print('Best params:\\n ', clf.best_params_)\n",
    "print('Best estimator:\\n ', clf.best_estimator_)"
   ]
  },
  {
   "cell_type": "markdown",
   "metadata": {},
   "source": [
    "#### GRIDSEARCH PARA O RANDOM FOREST:"
   ]
  },
  {
   "cell_type": "code",
   "execution_count": 40,
   "metadata": {
    "collapsed": false
   },
   "outputs": [
    {
     "name": "stdout",
     "output_type": "stream",
     "text": [
      "Grid Scores:\n",
      " [mean: 0.71800, std: 0.05325, params: {'criterion': 'gini', 'max_features': 'auto', 'n_estimators': 1}, mean: 0.79400, std: 0.04247, params: {'criterion': 'gini', 'max_features': 'auto', 'n_estimators': 26}, mean: 0.81100, std: 0.03986, params: {'criterion': 'gini', 'max_features': 'auto', 'n_estimators': 51}, mean: 0.82000, std: 0.04074, params: {'criterion': 'gini', 'max_features': 'auto', 'n_estimators': 76}, mean: 0.81400, std: 0.03470, params: {'criterion': 'gini', 'max_features': 'auto', 'n_estimators': 101}, mean: 0.81200, std: 0.03842, params: {'criterion': 'gini', 'max_features': 'auto', 'n_estimators': 126}, mean: 0.82200, std: 0.03311, params: {'criterion': 'gini', 'max_features': 'auto', 'n_estimators': 151}, mean: 0.82500, std: 0.03294, params: {'criterion': 'gini', 'max_features': 'auto', 'n_estimators': 176}, mean: 0.75500, std: 0.04588, params: {'criterion': 'gini', 'max_features': 'sqrt', 'n_estimators': 1}, mean: 0.81000, std: 0.05158, params: {'criterion': 'gini', 'max_features': 'sqrt', 'n_estimators': 26}, mean: 0.81300, std: 0.03407, params: {'criterion': 'gini', 'max_features': 'sqrt', 'n_estimators': 51}, mean: 0.81100, std: 0.03700, params: {'criterion': 'gini', 'max_features': 'sqrt', 'n_estimators': 76}, mean: 0.81700, std: 0.03951, params: {'criterion': 'gini', 'max_features': 'sqrt', 'n_estimators': 101}, mean: 0.81300, std: 0.04100, params: {'criterion': 'gini', 'max_features': 'sqrt', 'n_estimators': 126}, mean: 0.81200, std: 0.03487, params: {'criterion': 'gini', 'max_features': 'sqrt', 'n_estimators': 151}, mean: 0.82000, std: 0.03225, params: {'criterion': 'gini', 'max_features': 'sqrt', 'n_estimators': 176}, mean: 0.67400, std: 0.03800, params: {'criterion': 'gini', 'max_features': 'log2', 'n_estimators': 1}, mean: 0.81200, std: 0.04729, params: {'criterion': 'gini', 'max_features': 'log2', 'n_estimators': 26}, mean: 0.81700, std: 0.03257, params: {'criterion': 'gini', 'max_features': 'log2', 'n_estimators': 51}, mean: 0.82900, std: 0.02256, params: {'criterion': 'gini', 'max_features': 'log2', 'n_estimators': 76}, mean: 0.83400, std: 0.03852, params: {'criterion': 'gini', 'max_features': 'log2', 'n_estimators': 101}, mean: 0.82500, std: 0.03667, params: {'criterion': 'gini', 'max_features': 'log2', 'n_estimators': 126}, mean: 0.81400, std: 0.03611, params: {'criterion': 'gini', 'max_features': 'log2', 'n_estimators': 151}, mean: 0.83200, std: 0.03945, params: {'criterion': 'gini', 'max_features': 'log2', 'n_estimators': 176}, mean: 0.72300, std: 0.03689, params: {'criterion': 'entropy', 'max_features': 'auto', 'n_estimators': 1}, mean: 0.81700, std: 0.04859, params: {'criterion': 'entropy', 'max_features': 'auto', 'n_estimators': 26}, mean: 0.81000, std: 0.03661, params: {'criterion': 'entropy', 'max_features': 'auto', 'n_estimators': 51}, mean: 0.80900, std: 0.03780, params: {'criterion': 'entropy', 'max_features': 'auto', 'n_estimators': 76}, mean: 0.82600, std: 0.03007, params: {'criterion': 'entropy', 'max_features': 'auto', 'n_estimators': 101}, mean: 0.81400, std: 0.04247, params: {'criterion': 'entropy', 'max_features': 'auto', 'n_estimators': 126}, mean: 0.81900, std: 0.04437, params: {'criterion': 'entropy', 'max_features': 'auto', 'n_estimators': 151}, mean: 0.81900, std: 0.03754, params: {'criterion': 'entropy', 'max_features': 'auto', 'n_estimators': 176}, mean: 0.73400, std: 0.06020, params: {'criterion': 'entropy', 'max_features': 'sqrt', 'n_estimators': 1}, mean: 0.81500, std: 0.03354, params: {'criterion': 'entropy', 'max_features': 'sqrt', 'n_estimators': 26}, mean: 0.82100, std: 0.03646, params: {'criterion': 'entropy', 'max_features': 'sqrt', 'n_estimators': 51}, mean: 0.81200, std: 0.04261, params: {'criterion': 'entropy', 'max_features': 'sqrt', 'n_estimators': 76}, mean: 0.82100, std: 0.03618, params: {'criterion': 'entropy', 'max_features': 'sqrt', 'n_estimators': 101}, mean: 0.81700, std: 0.04406, params: {'criterion': 'entropy', 'max_features': 'sqrt', 'n_estimators': 126}, mean: 0.81800, std: 0.03487, params: {'criterion': 'entropy', 'max_features': 'sqrt', 'n_estimators': 151}, mean: 0.82400, std: 0.03499, params: {'criterion': 'entropy', 'max_features': 'sqrt', 'n_estimators': 176}, mean: 0.70400, std: 0.04409, params: {'criterion': 'entropy', 'max_features': 'log2', 'n_estimators': 1}, mean: 0.81300, std: 0.03743, params: {'criterion': 'entropy', 'max_features': 'log2', 'n_estimators': 26}, mean: 0.82400, std: 0.03720, params: {'criterion': 'entropy', 'max_features': 'log2', 'n_estimators': 51}, mean: 0.83300, std: 0.03100, params: {'criterion': 'entropy', 'max_features': 'log2', 'n_estimators': 76}, mean: 0.82700, std: 0.03551, params: {'criterion': 'entropy', 'max_features': 'log2', 'n_estimators': 101}, mean: 0.82000, std: 0.03098, params: {'criterion': 'entropy', 'max_features': 'log2', 'n_estimators': 126}, mean: 0.83200, std: 0.02358, params: {'criterion': 'entropy', 'max_features': 'log2', 'n_estimators': 151}, mean: 0.83200, std: 0.03842, params: {'criterion': 'entropy', 'max_features': 'log2', 'n_estimators': 176}]\n",
      "Best score:\n",
      "  0.834\n",
      "Best params:\n",
      "  {'criterion': 'gini', 'max_features': 'log2', 'n_estimators': 101}\n",
      "Best estimator:\n",
      "  RandomForestClassifier(bootstrap=True, class_weight=None, criterion='gini',\n",
      "            max_depth=None, max_features='log2', max_leaf_nodes=None,\n",
      "            min_impurity_decrease=0.0, min_impurity_split=None,\n",
      "            min_samples_leaf=1, min_samples_split=2,\n",
      "            min_weight_fraction_leaf=0.0, n_estimators=101, n_jobs=1,\n",
      "            oob_score=False, random_state=None, verbose=0,\n",
      "            warm_start=False)\n"
     ]
    }
   ],
   "source": [
    "parameter_grid = [\n",
    "  {'n_estimators': np.arange(1,201,25),'max_features': ['auto', 'sqrt', 'log2'],\n",
    "    'criterion' :['gini', 'entropy']}]\n",
    "\n",
    "clf = GridSearchCV(estimator= RandomForestClassifier(), param_grid=parameter_grid,cv=10, n_jobs=-1)\n",
    "clf.fit(X_stop, y_stop)\n",
    "\n",
    "print('Grid Scores:\\n',clf.grid_scores_)\n",
    "best_score=clf.best_score_\n",
    "best_params=clf.best_params_\n",
    "best_estimator=clf.best_estimator_\n",
    "print('Best score:\\n ', clf.best_score_)\n",
    "print('Best params:\\n ', clf.best_params_)\n",
    "print('Best estimator:\\n ', clf.best_estimator_)"
   ]
  },
  {
   "cell_type": "markdown",
   "metadata": {},
   "source": [
    "### COMPARAÇÃO DOS RESULTADOS DE TODOS OS CLASSIFICADORES:\n",
    "* Todos com o mesmo pre-processamento e com cross-validate."
   ]
  },
  {
   "cell_type": "code",
   "execution_count": 41,
   "metadata": {
    "collapsed": false
   },
   "outputs": [
    {
     "name": "stdout",
     "output_type": "stream",
     "text": [
      "Accuracy for Random Forest: 0.822\n",
      "Classification Report forRandom Forest:\n",
      "              precision    recall  f1-score   support\n",
      "\n",
      "   NEGATIVE       0.82      0.83      0.83       500\n",
      "   POSITIVE       0.83      0.82      0.82       500\n",
      "\n",
      "avg / total       0.83      0.82      0.82      1000\n",
      "\n",
      "\n",
      "\n",
      "\n",
      "Accuracy for Multinominal Naive Bayes: 0.8\n",
      "Classification Report forMultinominal Naive Bayes:\n",
      "              precision    recall  f1-score   support\n",
      "\n",
      "   NEGATIVE       0.80      0.81      0.80       500\n",
      "   POSITIVE       0.80      0.79      0.80       500\n",
      "\n",
      "avg / total       0.80      0.80      0.80      1000\n",
      "\n",
      "\n",
      "\n",
      "\n",
      "Accuracy for Support Vector Machine (kernel RBF): 0.83\n",
      "Classification Report forSupport Vector Machine (kernel RBF):\n",
      "              precision    recall  f1-score   support\n",
      "\n",
      "   NEGATIVE       0.81      0.86      0.83       500\n",
      "   POSITIVE       0.85      0.80      0.83       500\n",
      "\n",
      "avg / total       0.83      0.83      0.83      1000\n",
      "\n",
      "\n",
      "\n",
      "\n",
      "Accuracy for Gaussian Naive Bayes: 0.682\n",
      "Classification Report forGaussian Naive Bayes:\n",
      "              precision    recall  f1-score   support\n",
      "\n",
      "   NEGATIVE       0.77      0.52      0.62       500\n",
      "   POSITIVE       0.64      0.84      0.73       500\n",
      "\n",
      "avg / total       0.70      0.68      0.67      1000\n",
      "\n",
      "\n",
      "\n",
      "\n",
      "Accuracy for Support Vector Machine (kernel Linear): 0.824\n",
      "Classification Report forSupport Vector Machine (kernel Linear):\n",
      "              precision    recall  f1-score   support\n",
      "\n",
      "   NEGATIVE       0.82      0.84      0.83       500\n",
      "   POSITIVE       0.83      0.81      0.82       500\n",
      "\n",
      "avg / total       0.82      0.82      0.82      1000\n",
      "\n",
      "\n",
      "\n",
      "\n"
     ]
    }
   ],
   "source": [
    "RandForest_comp =RandomForestClassifier(criterion= 'gini', max_features= 'log2', n_estimators = 176)\n",
    "MultiNB_comp= MultinomialNB()\n",
    "SVM_rbf_comp = SVC(kernel='rbf',C=100,gamma=0.001)\n",
    "gaussianNB_comp = GaussianNB()\n",
    "SVM_linear_comp = SVC(kernel='linear',C=1)\n",
    "\n",
    "My_classifiers = [('Random Forest', RandForest_comp), ('Multinominal Naive Bayes',MultiNB_comp),\n",
    "                  ('Support Vector Machine (kernel RBF)',SVM_rbf_comp), \n",
    "                  ('Gaussian Naive Bayes',gaussianNB_comp),\n",
    "                  ('Support Vector Machine (kernel Linear)', SVM_linear_comp)]\n",
    "\n",
    "\n",
    "dict_class_cross={}\n",
    "for classifiers in My_classifiers:\n",
    "    scores= cross_val_score(classifiers[1], X_stop, y_stop, cv=10)\n",
    "    dict_class_cross[str(classifiers[0])] = scores.mean()\n",
    "    print(\"Accuracy for \"+ str(classifiers[0])+ \": \" + str(scores.mean()))\n",
    "    y_pred= cross_val_predict(classifiers[1],X_stop,y_stop,cv=10)\n",
    "    print ('Classification Report for'+ str(classifiers[0])+':\\n',classification_report(y_stop,y_pred))\n",
    "    print('\\n\\n')\n",
    "    \n",
    "    "
   ]
  },
  {
   "cell_type": "markdown",
   "metadata": {},
   "source": [
    "#### VOTAÇÃO DE CLASSIFICADORES:\n",
    "* Combinar diferentes classificadores de Machine Learning e usar a \"maiora\" ou probabilidades médias preditas (soft vote) para predição da categoria (label) da classe;\n",
    "* Classificador útil para um conjunto de classificadores com desempenho (performance) igualmente boa;\n",
    "* Balancea a fraqueza de cada classificador.\n",
    "\n",
    "#### PARA VOTING = HARD:\n",
    "\n",
    "![title](voting_classifier.png)\n",
    "\n",
    "\n",
    "* LINK:\n",
    "* http://scikit-learn.org/stable/modules/ensemble.html"
   ]
  },
  {
   "cell_type": "code",
   "execution_count": 42,
   "metadata": {
    "collapsed": true
   },
   "outputs": [],
   "source": [
    "from sklearn.ensemble import VotingClassifier\n",
    "from sklearn.ensemble import RandomForestClassifier, VotingClassifier\n",
    "\n",
    "RandForest_vt =RandomForestClassifier(criterion= 'gini', max_features= 'log2', n_estimators = 176)\n",
    "MultiNB_vt= MultinomialNB()\n",
    "SVM_svc_vt = SVC(kernel='linear',C=1)\n",
    "\n",
    "Estimators_Vote= [('Random Forest', RandForest_vt), ('Multinominal Naive Bayes',MultiNB_vt)\n",
    "                                     , ('Support Vector Machine (SVM)',SVM_svc_vt)]\n",
    "\n",
    "Voting_classifier = VotingClassifier(estimators= Estimators_Vote,voting='hard')\n",
    "\n"
   ]
  },
  {
   "cell_type": "code",
   "execution_count": 43,
   "metadata": {
    "collapsed": false
   },
   "outputs": [
    {
     "name": "stdout",
     "output_type": "stream",
     "text": [
      "Accuracies for Voting Classifier:  [ 0.84  0.85  0.83  0.83  0.78  0.84  0.82  0.84  0.83  0.83]\n",
      "\n",
      "Accuracy for Voting Classifier:  0.83 +/- 0.04 \n",
      "\n",
      "F1-measure for Voting Classifier:  [ 0.84  0.85  0.83  0.83  0.78  0.84  0.82  0.84  0.83  0.83]\n",
      "\n",
      "F1-measure for Voting Classifier:  0.83 +/- 0.05 \n",
      "\n"
     ]
    }
   ],
   "source": [
    "#https://stackoverflow.com/questions/48687375/deprecation-error-in-sklearn-about-empty-array-without-any-empty-array-in-my-cod\n",
    "#https://stackoverflow.com/questions/879173/how-to-ignore-deprecation-warnings-in-python\n",
    "\n",
    "import warnings\n",
    "warnings.filterwarnings(\"ignore\", category=DeprecationWarning) \n",
    "\n",
    "scores_vt= cross_val_score(Voting_classifier,X_stop,y_stop, scoring='accuracy',cv=10)\n",
    "print(\"Accuracies for Voting Classifier: \", scores_vt)\n",
    "print(\"\\nAccuracy for Voting Classifier:  %0.2f +/- %0.2f \\n\" % (scores_vt.mean(), scores_vt.std()*2))\n",
    "\n",
    "f1_vt= cross_val_score(Voting_classifier,X_stop,y_stop, scoring='f1_weighted',cv=10)\n",
    "print(\"F1-measure for Voting Classifier: \", scores_vt)\n",
    "print(\"\\nF1-measure for Voting Classifier:  %0.2f +/- %0.2f \\n\" % (f1_vt.mean(), f1_vt.std()*2))\n",
    "\n",
    "dict_class_cross['Voting Classifier'] = scores_vt.mean()"
   ]
  },
  {
   "cell_type": "code",
   "execution_count": 44,
   "metadata": {
    "collapsed": false
   },
   "outputs": [
    {
     "data": {
      "text/html": [
       "<div>\n",
       "<table border=\"1\" class=\"dataframe\">\n",
       "  <thead>\n",
       "    <tr style=\"text-align: right;\">\n",
       "      <th></th>\n",
       "      <th>Name</th>\n",
       "      <th>Accuracy</th>\n",
       "    </tr>\n",
       "  </thead>\n",
       "  <tbody>\n",
       "    <tr>\n",
       "      <th>0</th>\n",
       "      <td>Random Forest</td>\n",
       "      <td>0.822</td>\n",
       "    </tr>\n",
       "    <tr>\n",
       "      <th>1</th>\n",
       "      <td>Multinominal Naive Bayes</td>\n",
       "      <td>0.800</td>\n",
       "    </tr>\n",
       "    <tr>\n",
       "      <th>2</th>\n",
       "      <td>Support Vector Machine (kernel RBF)</td>\n",
       "      <td>0.830</td>\n",
       "    </tr>\n",
       "    <tr>\n",
       "      <th>3</th>\n",
       "      <td>Gaussian Naive Bayes</td>\n",
       "      <td>0.682</td>\n",
       "    </tr>\n",
       "    <tr>\n",
       "      <th>4</th>\n",
       "      <td>Support Vector Machine (kernel Linear)</td>\n",
       "      <td>0.824</td>\n",
       "    </tr>\n",
       "    <tr>\n",
       "      <th>5</th>\n",
       "      <td>Voting Classifier</td>\n",
       "      <td>0.829</td>\n",
       "    </tr>\n",
       "  </tbody>\n",
       "</table>\n",
       "</div>"
      ],
      "text/plain": [
       "                                     Name  Accuracy\n",
       "0                           Random Forest     0.822\n",
       "1                Multinominal Naive Bayes     0.800\n",
       "2     Support Vector Machine (kernel RBF)     0.830\n",
       "3                    Gaussian Naive Bayes     0.682\n",
       "4  Support Vector Machine (kernel Linear)     0.824\n",
       "5                       Voting Classifier     0.829"
      ]
     },
     "execution_count": 44,
     "metadata": {},
     "output_type": "execute_result"
    }
   ],
   "source": [
    "plot_acc = pd.DataFrame(list(dict_class_cross.items()), columns=['Name','Accuracy'])\n",
    "plot_acc"
   ]
  },
  {
   "cell_type": "code",
   "execution_count": 45,
   "metadata": {
    "collapsed": false
   },
   "outputs": [
    {
     "data": {
      "image/png": "[encoded data removed]",
      "text/plain": [
       "<matplotlib.figure.Figure at 0x19d3d0c90b8>"
      ]
     },
     "metadata": {},
     "output_type": "display_data"
    }
   ],
   "source": [
    "# https://blog.xkcd.com/2010/05/03/color-survey-results/\n",
    "classifiers = list(dict_class_cross.keys())\n",
    "accuracy = list(dict_class_cross.values())\n",
    "plt.figure(figsize=(12,8))\n",
    "\n",
    "pm, pc, pn,pv,pk,pq = plt.bar(left=range(len(dict_class_cross)),height=accuracy,tick_label=classifiers)\n",
    "pm.set_facecolor('#e50000')\n",
    "pc.set_facecolor('#ffff14')\n",
    "pn.set_facecolor('#0343df')\n",
    "pv.set_facecolor('#06470c')\n",
    "pk.set_facecolor('#f97306')\n",
    "pq.set_facecolor('#aaff32')\n",
    "plt.ylim(ymax=1)\n",
    "plt.ylabel('Accuracy',fontsize=10)\n",
    "plt.xlabel('Classifiers',fontsize=10)\n",
    "plt.xticks(rotation=70,fontsize=8)\n",
    "plt.title('Comparison between different Machine Learning classifiers',fontsize=12)\n",
    "\n",
    "\n",
    "\n",
    "i=0\n",
    "for txt in accuracy:\n",
    "    plt.annotate(round(txt, 3),(i,round(txt, 3)+0.005),ha=\"center\")\n",
    "    i+=1\n",
    "    \n",
    "plt.show()"
   ]
  },
  {
   "cell_type": "code",
   "execution_count": null,
   "metadata": {
    "collapsed": true
   },
   "outputs": [],
   "source": []
  },
  {
   "cell_type": "code",
   "execution_count": null,
   "metadata": {
    "collapsed": true
   },
   "outputs": [],
   "source": []
  }
 ],
 "metadata": {
  "kernelspec": {
   "display_name": "Python 3",
   "language": "python",
   "name": "python3"
  },
  "language_info": {
   "codemirror_mode": {
    "name": "ipython",
    "version": 3
   },
   "file_extension": ".py",
   "mimetype": "text/x-python",
   "name": "python",
   "nbconvert_exporter": "python",
   "pygments_lexer": "ipython3",
   "version": "3.6.0"
  }
 },
 "nbformat": 4,
 "nbformat_minor": 2
}
